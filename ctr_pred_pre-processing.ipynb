{
 "cells": [
  {
   "cell_type": "code",
   "execution_count": 1,
   "metadata": {
    "_cell_guid": "b1076dfc-b9ad-4769-8c92-a6c4dae69d19",
    "_uuid": "8f2839f25d086af736a60e9eeb907d3b93b6e0e5",
    "execution": {
     "iopub.execute_input": "2025-10-24T03:18:00.530601Z",
     "iopub.status.busy": "2025-10-24T03:18:00.530098Z",
     "iopub.status.idle": "2025-10-24T03:18:00.967346Z",
     "shell.execute_reply": "2025-10-24T03:18:00.966357Z",
     "shell.execute_reply.started": "2025-10-24T03:18:00.530564Z"
    },
    "trusted": true
   },
   "outputs": [],
   "source": [
    "# load libraries\n",
    "import numpy as np\n",
    "import pandas as pd\n",
    "import matplotlib.pyplot as plt\n",
    "import seaborn as sns\n",
    "import gc\n",
    "from sklearn.preprocessing import LabelEncoder\n",
    "from sklearn.linear_model import LogisticRegression\n",
    "from sklearn.metrics import roc_auc_score, accuracy_score\n",
    "from sklearn.model_selection import train_test_split"
   ]
  },
  {
   "cell_type": "code",
   "execution_count": 2,
   "metadata": {
    "execution": {
     "iopub.execute_input": "2025-10-24T03:08:52.021769Z",
     "iopub.status.busy": "2025-10-24T03:08:52.021484Z",
     "iopub.status.idle": "2025-10-24T03:10:37.877424Z",
     "shell.execute_reply": "2025-10-24T03:10:37.875942Z",
     "shell.execute_reply.started": "2025-10-24T03:08:52.021746Z"
    },
    "trusted": true
   },
   "outputs": [],
   "source": [
    "train_user = pd.read_csv('train_data_ads.csv')\n",
    "train_adv = pd.read_csv('train_data_feeds.csv')\n",
    "\n",
    "test_user  = pd.read_csv('test_data_ads.csv')\n",
    "test_adv   = pd.read_csv('test_data_feeds.csv')"
   ]
  },
  {
   "cell_type": "code",
   "execution_count": 3,
   "metadata": {
    "execution": {
     "iopub.execute_input": "2025-10-24T03:10:37.879584Z",
     "iopub.status.busy": "2025-10-24T03:10:37.879177Z",
     "iopub.status.idle": "2025-10-24T03:10:37.899209Z",
     "shell.execute_reply": "2025-10-24T03:10:37.898258Z",
     "shell.execute_reply.started": "2025-10-24T03:10:37.879555Z"
    },
    "trusted": true
   },
   "outputs": [
    {
     "data": {
      "text/html": [
       "<div>\n",
       "<style scoped>\n",
       "    .dataframe tbody tr th:only-of-type {\n",
       "        vertical-align: middle;\n",
       "    }\n",
       "\n",
       "    .dataframe tbody tr th {\n",
       "        vertical-align: top;\n",
       "    }\n",
       "\n",
       "    .dataframe thead th {\n",
       "        text-align: right;\n",
       "    }\n",
       "</style>\n",
       "<table border=\"1\" class=\"dataframe\">\n",
       "  <thead>\n",
       "    <tr style=\"text-align: right;\">\n",
       "      <th></th>\n",
       "      <th>u_userId</th>\n",
       "      <th>u_phonePrice</th>\n",
       "      <th>u_browserLifeCycle</th>\n",
       "      <th>u_browserMode</th>\n",
       "      <th>u_feedLifeCycle</th>\n",
       "      <th>u_refreshTimes</th>\n",
       "      <th>u_newsCatInterests</th>\n",
       "      <th>u_newsCatDislike</th>\n",
       "      <th>u_newsCatInterestsST</th>\n",
       "      <th>u_click_ca2_news</th>\n",
       "      <th>...</th>\n",
       "      <th>e_ch</th>\n",
       "      <th>e_m</th>\n",
       "      <th>e_po</th>\n",
       "      <th>e_pl</th>\n",
       "      <th>e_rn</th>\n",
       "      <th>e_section</th>\n",
       "      <th>e_et</th>\n",
       "      <th>label</th>\n",
       "      <th>cillabel</th>\n",
       "      <th>pro</th>\n",
       "    </tr>\n",
       "  </thead>\n",
       "  <tbody>\n",
       "    <tr>\n",
       "      <th>0</th>\n",
       "      <td>215116</td>\n",
       "      <td>16</td>\n",
       "      <td>17</td>\n",
       "      <td>14</td>\n",
       "      <td>11</td>\n",
       "      <td>0</td>\n",
       "      <td>65^72^42^65^104</td>\n",
       "      <td>0</td>\n",
       "      <td>219^50^151^21^140</td>\n",
       "      <td>219^50^151^114^21</td>\n",
       "      <td>...</td>\n",
       "      <td>19</td>\n",
       "      <td>998</td>\n",
       "      <td>9</td>\n",
       "      <td>2449</td>\n",
       "      <td>13</td>\n",
       "      <td>0</td>\n",
       "      <td>202206100922</td>\n",
       "      <td>-1</td>\n",
       "      <td>-1</td>\n",
       "      <td>0</td>\n",
       "    </tr>\n",
       "    <tr>\n",
       "      <th>1</th>\n",
       "      <td>215116</td>\n",
       "      <td>16</td>\n",
       "      <td>17</td>\n",
       "      <td>14</td>\n",
       "      <td>11</td>\n",
       "      <td>0</td>\n",
       "      <td>65^72^42^65^104</td>\n",
       "      <td>0</td>\n",
       "      <td>219^50^151^21^140</td>\n",
       "      <td>219^50^151^114^21</td>\n",
       "      <td>...</td>\n",
       "      <td>19</td>\n",
       "      <td>998</td>\n",
       "      <td>7</td>\n",
       "      <td>2449</td>\n",
       "      <td>14</td>\n",
       "      <td>0</td>\n",
       "      <td>202206100924</td>\n",
       "      <td>-1</td>\n",
       "      <td>-1</td>\n",
       "      <td>0</td>\n",
       "    </tr>\n",
       "    <tr>\n",
       "      <th>2</th>\n",
       "      <td>215116</td>\n",
       "      <td>16</td>\n",
       "      <td>17</td>\n",
       "      <td>14</td>\n",
       "      <td>11</td>\n",
       "      <td>0</td>\n",
       "      <td>65^72^42^65^104</td>\n",
       "      <td>0</td>\n",
       "      <td>0</td>\n",
       "      <td>65^104^98^168^0</td>\n",
       "      <td>...</td>\n",
       "      <td>19</td>\n",
       "      <td>998</td>\n",
       "      <td>14</td>\n",
       "      <td>2449</td>\n",
       "      <td>1</td>\n",
       "      <td>0</td>\n",
       "      <td>202206100907</td>\n",
       "      <td>1</td>\n",
       "      <td>-1</td>\n",
       "      <td>40</td>\n",
       "    </tr>\n",
       "    <tr>\n",
       "      <th>3</th>\n",
       "      <td>215116</td>\n",
       "      <td>16</td>\n",
       "      <td>17</td>\n",
       "      <td>14</td>\n",
       "      <td>11</td>\n",
       "      <td>0</td>\n",
       "      <td>65^72^42^65^104</td>\n",
       "      <td>0</td>\n",
       "      <td>219^50^151^21^140</td>\n",
       "      <td>219^50^151^114^21</td>\n",
       "      <td>...</td>\n",
       "      <td>19</td>\n",
       "      <td>998</td>\n",
       "      <td>5</td>\n",
       "      <td>2449</td>\n",
       "      <td>11</td>\n",
       "      <td>0</td>\n",
       "      <td>202206100921</td>\n",
       "      <td>-1</td>\n",
       "      <td>-1</td>\n",
       "      <td>0</td>\n",
       "    </tr>\n",
       "    <tr>\n",
       "      <th>4</th>\n",
       "      <td>215116</td>\n",
       "      <td>16</td>\n",
       "      <td>17</td>\n",
       "      <td>14</td>\n",
       "      <td>11</td>\n",
       "      <td>0</td>\n",
       "      <td>65^72^42^65^104</td>\n",
       "      <td>0</td>\n",
       "      <td>219^50^151^21^140</td>\n",
       "      <td>219^50^151^114^21</td>\n",
       "      <td>...</td>\n",
       "      <td>19</td>\n",
       "      <td>998</td>\n",
       "      <td>3</td>\n",
       "      <td>2449</td>\n",
       "      <td>14</td>\n",
       "      <td>0</td>\n",
       "      <td>202206100922</td>\n",
       "      <td>-1</td>\n",
       "      <td>-1</td>\n",
       "      <td>0</td>\n",
       "    </tr>\n",
       "  </tbody>\n",
       "</table>\n",
       "<p>5 rows × 28 columns</p>\n",
       "</div>"
      ],
      "text/plain": [
       "   u_userId  u_phonePrice  u_browserLifeCycle  u_browserMode  u_feedLifeCycle  \\\n",
       "0    215116            16                  17             14               11   \n",
       "1    215116            16                  17             14               11   \n",
       "2    215116            16                  17             14               11   \n",
       "3    215116            16                  17             14               11   \n",
       "4    215116            16                  17             14               11   \n",
       "\n",
       "   u_refreshTimes u_newsCatInterests u_newsCatDislike u_newsCatInterestsST  \\\n",
       "0               0    65^72^42^65^104                0    219^50^151^21^140   \n",
       "1               0    65^72^42^65^104                0    219^50^151^21^140   \n",
       "2               0    65^72^42^65^104                0                    0   \n",
       "3               0    65^72^42^65^104                0    219^50^151^21^140   \n",
       "4               0    65^72^42^65^104                0    219^50^151^21^140   \n",
       "\n",
       "    u_click_ca2_news  ... e_ch  e_m  e_po  e_pl e_rn  e_section          e_et  \\\n",
       "0  219^50^151^114^21  ...   19  998     9  2449   13          0  202206100922   \n",
       "1  219^50^151^114^21  ...   19  998     7  2449   14          0  202206100924   \n",
       "2    65^104^98^168^0  ...   19  998    14  2449    1          0  202206100907   \n",
       "3  219^50^151^114^21  ...   19  998     5  2449   11          0  202206100921   \n",
       "4  219^50^151^114^21  ...   19  998     3  2449   14          0  202206100922   \n",
       "\n",
       "   label  cillabel  pro  \n",
       "0     -1        -1    0  \n",
       "1     -1        -1    0  \n",
       "2      1        -1   40  \n",
       "3     -1        -1    0  \n",
       "4     -1        -1    0  \n",
       "\n",
       "[5 rows x 28 columns]"
      ]
     },
     "execution_count": 3,
     "metadata": {},
     "output_type": "execute_result"
    }
   ],
   "source": [
    "test_adv.head()"
   ]
  },
  {
   "cell_type": "code",
   "execution_count": 4,
   "metadata": {
    "execution": {
     "iopub.execute_input": "2025-10-24T03:10:37.902070Z",
     "iopub.status.busy": "2025-10-24T03:10:37.901757Z",
     "iopub.status.idle": "2025-10-24T03:10:37.923305Z",
     "shell.execute_reply": "2025-10-24T03:10:37.922121Z",
     "shell.execute_reply.started": "2025-10-24T03:10:37.902042Z"
    },
    "trusted": true
   },
   "outputs": [],
   "source": [
    "train_adv.rename(columns={'u_userId': 'user_id'}, inplace=True)\n",
    "test_adv.rename(columns={'u_userId': 'user_id'}, inplace=True)"
   ]
  },
  {
   "cell_type": "code",
   "execution_count": 5,
   "metadata": {
    "execution": {
     "iopub.execute_input": "2025-10-24T03:10:37.925336Z",
     "iopub.status.busy": "2025-10-24T03:10:37.924521Z",
     "iopub.status.idle": "2025-10-24T03:10:37.949063Z",
     "shell.execute_reply": "2025-10-24T03:10:37.948061Z",
     "shell.execute_reply.started": "2025-10-24T03:10:37.925286Z"
    },
    "trusted": true
   },
   "outputs": [],
   "source": [
    "user_var = [\n",
    "    'user_id',\n",
    "    'log_id',\n",
    "    'age',\n",
    "    'gender',\n",
    "    'residence',\n",
    "    'device_name',\n",
    "    'device_size',\n",
    "    'net_type',\n",
    "    'task_id',\n",
    "    'adv_id',\n",
    "    'creat_type_cd'\n",
    "]\n",
    "\n",
    "adv_var = [\n",
    "    'user_id',\n",
    "    'label'\n",
    "]"
   ]
  },
  {
   "cell_type": "code",
   "execution_count": 6,
   "metadata": {
    "execution": {
     "iopub.execute_input": "2025-10-24T03:10:37.950688Z",
     "iopub.status.busy": "2025-10-24T03:10:37.950241Z",
     "iopub.status.idle": "2025-10-24T03:10:37.972918Z",
     "shell.execute_reply": "2025-10-24T03:10:37.971661Z",
     "shell.execute_reply.started": "2025-10-24T03:10:37.950654Z"
    },
    "trusted": true
   },
   "outputs": [],
   "source": [
    "def safe_keep(df, cols, name):\n",
    "    keep = [c for c in cols if c in df.columns]\n",
    "    miss = [c for c in cols if c not in df.columns]\n",
    "    if miss:\n",
    "        print(f\"[{name}] missing in the dataset: {miss}\")\n",
    "    return keep\n",
    "\n",
    "train_user_cols = safe_keep(train_user, user_var, \"train_user\")\n",
    "test_user_cols  = safe_keep(test_user,  user_var, \"test_user\")\n",
    "train_adv_cols  = safe_keep(train_adv,  adv_var,  \"train_adv\")\n",
    "test_adv_cols   = safe_keep(test_adv,   adv_var,  \"test_adv\")"
   ]
  },
  {
   "cell_type": "code",
   "execution_count": 7,
   "metadata": {
    "execution": {
     "iopub.execute_input": "2025-10-24T03:10:37.974525Z",
     "iopub.status.busy": "2025-10-24T03:10:37.974250Z",
     "iopub.status.idle": "2025-10-24T03:10:40.423973Z",
     "shell.execute_reply": "2025-10-24T03:10:40.423052Z",
     "shell.execute_reply.started": "2025-10-24T03:10:37.974496Z"
    },
    "trusted": true
   },
   "outputs": [
    {
     "data": {
      "text/plain": [
       "0"
      ]
     },
     "execution_count": 7,
     "metadata": {},
     "output_type": "execute_result"
    }
   ],
   "source": [
    "train_user['istest'] = 0\n",
    "test_user['istest']  = 1\n",
    "data_user = pd.concat([train_user, test_user], axis=0, ignore_index=True)\n",
    "del train_user, test_user\n",
    "gc.collect()"
   ]
  },
  {
   "cell_type": "code",
   "execution_count": 8,
   "metadata": {
    "execution": {
     "iopub.execute_input": "2025-10-24T03:10:40.425141Z",
     "iopub.status.busy": "2025-10-24T03:10:40.424881Z",
     "iopub.status.idle": "2025-10-24T03:10:41.199126Z",
     "shell.execute_reply": "2025-10-24T03:10:41.198051Z",
     "shell.execute_reply.started": "2025-10-24T03:10:40.425113Z"
    },
    "trusted": true
   },
   "outputs": [
    {
     "data": {
      "text/plain": [
       "0"
      ]
     },
     "execution_count": 8,
     "metadata": {},
     "output_type": "execute_result"
    }
   ],
   "source": [
    "train_adv['istest'] = 0\n",
    "test_adv['istest']  = 1\n",
    "data_adv = pd.concat([train_adv, test_adv], axis=0, ignore_index=True)\n",
    "del train_adv, test_adv\n",
    "gc.collect()"
   ]
  },
  {
   "cell_type": "code",
   "execution_count": 9,
   "metadata": {
    "execution": {
     "iopub.execute_input": "2025-10-24T03:10:41.200655Z",
     "iopub.status.busy": "2025-10-24T03:10:41.200369Z",
     "iopub.status.idle": "2025-10-24T03:10:41.217218Z",
     "shell.execute_reply": "2025-10-24T03:10:41.216320Z",
     "shell.execute_reply.started": "2025-10-24T03:10:41.200624Z"
    },
    "trusted": true
   },
   "outputs": [
    {
     "data": {
      "text/html": [
       "<div>\n",
       "<style scoped>\n",
       "    .dataframe tbody tr th:only-of-type {\n",
       "        vertical-align: middle;\n",
       "    }\n",
       "\n",
       "    .dataframe tbody tr th {\n",
       "        vertical-align: top;\n",
       "    }\n",
       "\n",
       "    .dataframe thead th {\n",
       "        text-align: right;\n",
       "    }\n",
       "</style>\n",
       "<table border=\"1\" class=\"dataframe\">\n",
       "  <thead>\n",
       "    <tr style=\"text-align: right;\">\n",
       "      <th></th>\n",
       "      <th>user_id</th>\n",
       "      <th>u_phonePrice</th>\n",
       "      <th>u_browserLifeCycle</th>\n",
       "      <th>u_browserMode</th>\n",
       "      <th>u_feedLifeCycle</th>\n",
       "      <th>u_refreshTimes</th>\n",
       "      <th>u_newsCatInterests</th>\n",
       "      <th>u_newsCatDislike</th>\n",
       "      <th>u_newsCatInterestsST</th>\n",
       "      <th>u_click_ca2_news</th>\n",
       "      <th>...</th>\n",
       "      <th>e_m</th>\n",
       "      <th>e_po</th>\n",
       "      <th>e_pl</th>\n",
       "      <th>e_rn</th>\n",
       "      <th>e_section</th>\n",
       "      <th>e_et</th>\n",
       "      <th>label</th>\n",
       "      <th>cillabel</th>\n",
       "      <th>pro</th>\n",
       "      <th>istest</th>\n",
       "    </tr>\n",
       "  </thead>\n",
       "  <tbody>\n",
       "    <tr>\n",
       "      <th>0</th>\n",
       "      <td>135880</td>\n",
       "      <td>16</td>\n",
       "      <td>17</td>\n",
       "      <td>10</td>\n",
       "      <td>17</td>\n",
       "      <td>0</td>\n",
       "      <td>195^168^109^98^108</td>\n",
       "      <td>0</td>\n",
       "      <td>195^44^168^112^21</td>\n",
       "      <td>195^168^44^112^21</td>\n",
       "      <td>...</td>\n",
       "      <td>1217</td>\n",
       "      <td>1</td>\n",
       "      <td>561</td>\n",
       "      <td>2</td>\n",
       "      <td>0</td>\n",
       "      <td>202206081521</td>\n",
       "      <td>-1</td>\n",
       "      <td>-1</td>\n",
       "      <td>0</td>\n",
       "      <td>0</td>\n",
       "    </tr>\n",
       "    <tr>\n",
       "      <th>1</th>\n",
       "      <td>135880</td>\n",
       "      <td>16</td>\n",
       "      <td>17</td>\n",
       "      <td>10</td>\n",
       "      <td>17</td>\n",
       "      <td>0</td>\n",
       "      <td>195^168^109^98^108</td>\n",
       "      <td>0</td>\n",
       "      <td>195^44^168^112^21</td>\n",
       "      <td>195^168^44^112^21</td>\n",
       "      <td>...</td>\n",
       "      <td>1217</td>\n",
       "      <td>9</td>\n",
       "      <td>561</td>\n",
       "      <td>1</td>\n",
       "      <td>0</td>\n",
       "      <td>202206081521</td>\n",
       "      <td>-1</td>\n",
       "      <td>-1</td>\n",
       "      <td>0</td>\n",
       "      <td>0</td>\n",
       "    </tr>\n",
       "    <tr>\n",
       "      <th>2</th>\n",
       "      <td>135880</td>\n",
       "      <td>16</td>\n",
       "      <td>17</td>\n",
       "      <td>10</td>\n",
       "      <td>17</td>\n",
       "      <td>0</td>\n",
       "      <td>195^168^109^98^108</td>\n",
       "      <td>0</td>\n",
       "      <td>195^44^168^112^21</td>\n",
       "      <td>195^168^44^112^21</td>\n",
       "      <td>...</td>\n",
       "      <td>1217</td>\n",
       "      <td>18</td>\n",
       "      <td>561</td>\n",
       "      <td>1</td>\n",
       "      <td>0</td>\n",
       "      <td>202206081521</td>\n",
       "      <td>-1</td>\n",
       "      <td>-1</td>\n",
       "      <td>0</td>\n",
       "      <td>0</td>\n",
       "    </tr>\n",
       "    <tr>\n",
       "      <th>3</th>\n",
       "      <td>135880</td>\n",
       "      <td>16</td>\n",
       "      <td>17</td>\n",
       "      <td>10</td>\n",
       "      <td>17</td>\n",
       "      <td>0</td>\n",
       "      <td>195^168^109^98^108</td>\n",
       "      <td>0</td>\n",
       "      <td>195^44^168^112^21</td>\n",
       "      <td>195^168^44^112^21</td>\n",
       "      <td>...</td>\n",
       "      <td>1217</td>\n",
       "      <td>7</td>\n",
       "      <td>561</td>\n",
       "      <td>1</td>\n",
       "      <td>1</td>\n",
       "      <td>202206081521</td>\n",
       "      <td>-1</td>\n",
       "      <td>-1</td>\n",
       "      <td>0</td>\n",
       "      <td>0</td>\n",
       "    </tr>\n",
       "    <tr>\n",
       "      <th>4</th>\n",
       "      <td>135880</td>\n",
       "      <td>16</td>\n",
       "      <td>17</td>\n",
       "      <td>10</td>\n",
       "      <td>17</td>\n",
       "      <td>0</td>\n",
       "      <td>195^168^109^98^108</td>\n",
       "      <td>0</td>\n",
       "      <td>195^44^168^112^21</td>\n",
       "      <td>195^168^44^112^21</td>\n",
       "      <td>...</td>\n",
       "      <td>1217</td>\n",
       "      <td>7</td>\n",
       "      <td>561</td>\n",
       "      <td>2</td>\n",
       "      <td>0</td>\n",
       "      <td>202206081522</td>\n",
       "      <td>-1</td>\n",
       "      <td>-1</td>\n",
       "      <td>0</td>\n",
       "      <td>0</td>\n",
       "    </tr>\n",
       "  </tbody>\n",
       "</table>\n",
       "<p>5 rows × 29 columns</p>\n",
       "</div>"
      ],
      "text/plain": [
       "   user_id  u_phonePrice  u_browserLifeCycle  u_browserMode  u_feedLifeCycle  \\\n",
       "0   135880            16                  17             10               17   \n",
       "1   135880            16                  17             10               17   \n",
       "2   135880            16                  17             10               17   \n",
       "3   135880            16                  17             10               17   \n",
       "4   135880            16                  17             10               17   \n",
       "\n",
       "   u_refreshTimes  u_newsCatInterests u_newsCatDislike u_newsCatInterestsST  \\\n",
       "0               0  195^168^109^98^108                0    195^44^168^112^21   \n",
       "1               0  195^168^109^98^108                0    195^44^168^112^21   \n",
       "2               0  195^168^109^98^108                0    195^44^168^112^21   \n",
       "3               0  195^168^109^98^108                0    195^44^168^112^21   \n",
       "4               0  195^168^109^98^108                0    195^44^168^112^21   \n",
       "\n",
       "    u_click_ca2_news  ...   e_m e_po  e_pl  e_rn e_section          e_et  \\\n",
       "0  195^168^44^112^21  ...  1217    1   561     2         0  202206081521   \n",
       "1  195^168^44^112^21  ...  1217    9   561     1         0  202206081521   \n",
       "2  195^168^44^112^21  ...  1217   18   561     1         0  202206081521   \n",
       "3  195^168^44^112^21  ...  1217    7   561     1         1  202206081521   \n",
       "4  195^168^44^112^21  ...  1217    7   561     2         0  202206081522   \n",
       "\n",
       "   label  cillabel  pro  istest  \n",
       "0     -1        -1    0       0  \n",
       "1     -1        -1    0       0  \n",
       "2     -1        -1    0       0  \n",
       "3     -1        -1    0       0  \n",
       "4     -1        -1    0       0  \n",
       "\n",
       "[5 rows x 29 columns]"
      ]
     },
     "execution_count": 9,
     "metadata": {},
     "output_type": "execute_result"
    }
   ],
   "source": [
    "data_adv.head()"
   ]
  },
  {
   "cell_type": "code",
   "execution_count": 10,
   "metadata": {
    "execution": {
     "iopub.execute_input": "2025-10-24T03:10:41.219756Z",
     "iopub.status.busy": "2025-10-24T03:10:41.219478Z",
     "iopub.status.idle": "2025-10-24T03:10:43.882760Z",
     "shell.execute_reply": "2025-10-24T03:10:43.881729Z",
     "shell.execute_reply.started": "2025-10-24T03:10:41.219732Z"
    },
    "trusted": true
   },
   "outputs": [],
   "source": [
    "adv_train_only = data_adv[data_adv['istest']==0].copy()"
   ]
  },
  {
   "cell_type": "code",
   "execution_count": 11,
   "metadata": {
    "execution": {
     "iopub.execute_input": "2025-10-24T03:10:43.883954Z",
     "iopub.status.busy": "2025-10-24T03:10:43.883725Z",
     "iopub.status.idle": "2025-10-24T03:10:43.947489Z",
     "shell.execute_reply": "2025-10-24T03:10:43.946632Z",
     "shell.execute_reply.started": "2025-10-24T03:10:43.883936Z"
    },
    "trusted": true
   },
   "outputs": [],
   "source": [
    "def to01(s):\n",
    "    s = s.copy()\n",
    "    s = s.replace({-1:0, 1:1})\n",
    "    return s.astype(int)\n",
    "\n",
    "adv_train_only['label01'] = to01(adv_train_only['label'])"
   ]
  },
  {
   "cell_type": "code",
   "execution_count": 12,
   "metadata": {
    "execution": {
     "iopub.execute_input": "2025-10-24T03:10:43.948861Z",
     "iopub.status.busy": "2025-10-24T03:10:43.948605Z",
     "iopub.status.idle": "2025-10-24T03:10:44.221326Z",
     "shell.execute_reply": "2025-10-24T03:10:44.220102Z",
     "shell.execute_reply.started": "2025-10-24T03:10:43.948842Z"
    },
    "trusted": true
   },
   "outputs": [],
   "source": [
    "# aggregate total count for each user id\n",
    "user_agg = (\n",
    "    adv_train_only\n",
    "    .groupby('user_id', as_index=False)\n",
    "    .agg(\n",
    "        feeds_imps = ('label01','count'),        \n",
    "        feeds_clicks = ('label01','sum'),      \n",
    "        feeds_ctr = ('label01','mean')         \n",
    "    )\n",
    ")"
   ]
  },
  {
   "cell_type": "code",
   "execution_count": 13,
   "metadata": {
    "execution": {
     "iopub.execute_input": "2025-10-24T03:10:44.222694Z",
     "iopub.status.busy": "2025-10-24T03:10:44.222429Z",
     "iopub.status.idle": "2025-10-24T03:10:57.362630Z",
     "shell.execute_reply": "2025-10-24T03:10:57.361533Z",
     "shell.execute_reply.started": "2025-10-24T03:10:44.222674Z"
    },
    "trusted": true
   },
   "outputs": [
    {
     "name": "stdout",
     "output_type": "stream",
     "text": [
      "Train rows: 7675517  | Test rows: 976058\n",
      "Train columns: 38  | Test columns: 38\n"
     ]
    }
   ],
   "source": [
    "data_user = data_user.merge(user_agg, on='user_id', how='left')\n",
    "\n",
    "# missing data (user never appeared in feeds/adv)\n",
    "for c in ['feeds_imps','feeds_clicks','feeds_ctr']:\n",
    "    if c in data_user.columns:\n",
    "        data_user[c] = data_user[c].fillna(0 if c!='feeds_ctr' else data_user[c].mean())\n",
    "\n",
    "# merge final\n",
    "train_merged = data_user[data_user['istest']==0].drop(columns=['istest']).reset_index(drop=True)\n",
    "test_merged  = data_user[data_user['istest']==1].drop(columns=['istest']).reset_index(drop=True)\n",
    "\n",
    "print(\"Train rows:\", len(train_merged), \" | Test rows:\", len(test_merged))\n",
    "print(\"Train columns:\", len(train_merged.columns), \" | Test columns:\", len(test_merged.columns))"
   ]
  },
  {
   "cell_type": "code",
   "execution_count": 14,
   "metadata": {
    "execution": {
     "iopub.execute_input": "2025-10-24T03:16:34.629496Z",
     "iopub.status.busy": "2025-10-24T03:16:34.626846Z",
     "iopub.status.idle": "2025-10-24T03:16:35.181409Z",
     "shell.execute_reply": "2025-10-24T03:16:35.180165Z",
     "shell.execute_reply.started": "2025-10-24T03:16:34.629401Z"
    },
    "trusted": true
   },
   "outputs": [
    {
     "name": "stdout",
     "output_type": "stream",
     "text": [
      "<class 'pandas.core.frame.DataFrame'>\n",
      "RangeIndex: 7675517 entries, 0 to 7675516\n",
      "Data columns (total 38 columns):\n",
      " #   Column                Dtype  \n",
      "---  ------                -----  \n",
      " 0   log_id                int64  \n",
      " 1   label                 float64\n",
      " 2   user_id               int64  \n",
      " 3   age                   int64  \n",
      " 4   gender                int64  \n",
      " 5   residence             int64  \n",
      " 6   city                  int64  \n",
      " 7   city_rank             int64  \n",
      " 8   series_dev            int64  \n",
      " 9   series_group          int64  \n",
      " 10  emui_dev              int64  \n",
      " 11  device_name           int64  \n",
      " 12  device_size           int64  \n",
      " 13  net_type              int64  \n",
      " 14  task_id               int64  \n",
      " 15  adv_id                int64  \n",
      " 16  creat_type_cd         int64  \n",
      " 17  adv_prim_id           int64  \n",
      " 18  inter_type_cd         int64  \n",
      " 19  slot_id               int64  \n",
      " 20  site_id               int64  \n",
      " 21  spread_app_id         int64  \n",
      " 22  hispace_app_tags      int64  \n",
      " 23  app_second_class      int64  \n",
      " 24  app_score             float64\n",
      " 25  ad_click_list_v001    object \n",
      " 26  ad_click_list_v002    object \n",
      " 27  ad_click_list_v003    object \n",
      " 28  ad_close_list_v001    object \n",
      " 29  ad_close_list_v002    object \n",
      " 30  ad_close_list_v003    object \n",
      " 31  pt_d                  int64  \n",
      " 32  u_newsCatInterestsST  object \n",
      " 33  u_refreshTimes        int64  \n",
      " 34  u_feedLifeCycle       int64  \n",
      " 35  feeds_imps            float64\n",
      " 36  feeds_clicks          float64\n",
      " 37  feeds_ctr             float64\n",
      "dtypes: float64(5), int64(26), object(7)\n",
      "memory usage: 2.2+ GB\n",
      "<class 'pandas.core.frame.DataFrame'>\n",
      "RangeIndex: 976058 entries, 0 to 976057\n",
      "Data columns (total 38 columns):\n",
      " #   Column                Non-Null Count   Dtype  \n",
      "---  ------                --------------   -----  \n",
      " 0   log_id                976058 non-null  int64  \n",
      " 1   label                 0 non-null       float64\n",
      " 2   user_id               976058 non-null  int64  \n",
      " 3   age                   976058 non-null  int64  \n",
      " 4   gender                976058 non-null  int64  \n",
      " 5   residence             976058 non-null  int64  \n",
      " 6   city                  976058 non-null  int64  \n",
      " 7   city_rank             976058 non-null  int64  \n",
      " 8   series_dev            976058 non-null  int64  \n",
      " 9   series_group          976058 non-null  int64  \n",
      " 10  emui_dev              976058 non-null  int64  \n",
      " 11  device_name           976058 non-null  int64  \n",
      " 12  device_size           976058 non-null  int64  \n",
      " 13  net_type              976058 non-null  int64  \n",
      " 14  task_id               976058 non-null  int64  \n",
      " 15  adv_id                976058 non-null  int64  \n",
      " 16  creat_type_cd         976058 non-null  int64  \n",
      " 17  adv_prim_id           976058 non-null  int64  \n",
      " 18  inter_type_cd         976058 non-null  int64  \n",
      " 19  slot_id               976058 non-null  int64  \n",
      " 20  site_id               976058 non-null  int64  \n",
      " 21  spread_app_id         976058 non-null  int64  \n",
      " 22  hispace_app_tags      976058 non-null  int64  \n",
      " 23  app_second_class      976058 non-null  int64  \n",
      " 24  app_score             976058 non-null  float64\n",
      " 25  ad_click_list_v001    976058 non-null  object \n",
      " 26  ad_click_list_v002    976058 non-null  object \n",
      " 27  ad_click_list_v003    976058 non-null  object \n",
      " 28  ad_close_list_v001    976058 non-null  object \n",
      " 29  ad_close_list_v002    976058 non-null  object \n",
      " 30  ad_close_list_v003    976058 non-null  object \n",
      " 31  pt_d                  976058 non-null  int64  \n",
      " 32  u_newsCatInterestsST  976058 non-null  object \n",
      " 33  u_refreshTimes        976058 non-null  int64  \n",
      " 34  u_feedLifeCycle       976058 non-null  int64  \n",
      " 35  feeds_imps            976058 non-null  float64\n",
      " 36  feeds_clicks          976058 non-null  float64\n",
      " 37  feeds_ctr             976058 non-null  float64\n",
      "dtypes: float64(5), int64(26), object(7)\n",
      "memory usage: 283.0+ MB\n"
     ]
    },
    {
     "data": {
      "text/html": [
       "<div>\n",
       "<style scoped>\n",
       "    .dataframe tbody tr th:only-of-type {\n",
       "        vertical-align: middle;\n",
       "    }\n",
       "\n",
       "    .dataframe tbody tr th {\n",
       "        vertical-align: top;\n",
       "    }\n",
       "\n",
       "    .dataframe thead th {\n",
       "        text-align: right;\n",
       "    }\n",
       "</style>\n",
       "<table border=\"1\" class=\"dataframe\">\n",
       "  <thead>\n",
       "    <tr style=\"text-align: right;\">\n",
       "      <th></th>\n",
       "      <th>log_id</th>\n",
       "      <th>label</th>\n",
       "      <th>user_id</th>\n",
       "      <th>age</th>\n",
       "      <th>gender</th>\n",
       "      <th>residence</th>\n",
       "      <th>city</th>\n",
       "      <th>city_rank</th>\n",
       "      <th>series_dev</th>\n",
       "      <th>series_group</th>\n",
       "      <th>...</th>\n",
       "      <th>ad_close_list_v001</th>\n",
       "      <th>ad_close_list_v002</th>\n",
       "      <th>ad_close_list_v003</th>\n",
       "      <th>pt_d</th>\n",
       "      <th>u_newsCatInterestsST</th>\n",
       "      <th>u_refreshTimes</th>\n",
       "      <th>u_feedLifeCycle</th>\n",
       "      <th>feeds_imps</th>\n",
       "      <th>feeds_clicks</th>\n",
       "      <th>feeds_ctr</th>\n",
       "    </tr>\n",
       "  </thead>\n",
       "  <tbody>\n",
       "    <tr>\n",
       "      <th>0</th>\n",
       "      <td>373250</td>\n",
       "      <td>0.0</td>\n",
       "      <td>100005</td>\n",
       "      <td>3</td>\n",
       "      <td>2</td>\n",
       "      <td>16</td>\n",
       "      <td>147</td>\n",
       "      <td>2</td>\n",
       "      <td>32</td>\n",
       "      <td>6</td>\n",
       "      <td>...</td>\n",
       "      <td>24107</td>\n",
       "      <td>1218</td>\n",
       "      <td>173</td>\n",
       "      <td>202206030326</td>\n",
       "      <td>39^220^16</td>\n",
       "      <td>0</td>\n",
       "      <td>15</td>\n",
       "      <td>5.0</td>\n",
       "      <td>0.0</td>\n",
       "      <td>0.0</td>\n",
       "    </tr>\n",
       "    <tr>\n",
       "      <th>1</th>\n",
       "      <td>373253</td>\n",
       "      <td>1.0</td>\n",
       "      <td>100005</td>\n",
       "      <td>3</td>\n",
       "      <td>2</td>\n",
       "      <td>16</td>\n",
       "      <td>147</td>\n",
       "      <td>2</td>\n",
       "      <td>32</td>\n",
       "      <td>6</td>\n",
       "      <td>...</td>\n",
       "      <td>24107</td>\n",
       "      <td>1218</td>\n",
       "      <td>173</td>\n",
       "      <td>202206030326</td>\n",
       "      <td>39^220^16</td>\n",
       "      <td>0</td>\n",
       "      <td>15</td>\n",
       "      <td>5.0</td>\n",
       "      <td>0.0</td>\n",
       "      <td>0.0</td>\n",
       "    </tr>\n",
       "    <tr>\n",
       "      <th>2</th>\n",
       "      <td>373252</td>\n",
       "      <td>1.0</td>\n",
       "      <td>100005</td>\n",
       "      <td>3</td>\n",
       "      <td>2</td>\n",
       "      <td>16</td>\n",
       "      <td>147</td>\n",
       "      <td>2</td>\n",
       "      <td>32</td>\n",
       "      <td>6</td>\n",
       "      <td>...</td>\n",
       "      <td>24107</td>\n",
       "      <td>1218</td>\n",
       "      <td>173</td>\n",
       "      <td>202206030326</td>\n",
       "      <td>39^220^16</td>\n",
       "      <td>0</td>\n",
       "      <td>15</td>\n",
       "      <td>5.0</td>\n",
       "      <td>0.0</td>\n",
       "      <td>0.0</td>\n",
       "    </tr>\n",
       "    <tr>\n",
       "      <th>3</th>\n",
       "      <td>373251</td>\n",
       "      <td>0.0</td>\n",
       "      <td>100005</td>\n",
       "      <td>3</td>\n",
       "      <td>2</td>\n",
       "      <td>16</td>\n",
       "      <td>147</td>\n",
       "      <td>2</td>\n",
       "      <td>32</td>\n",
       "      <td>6</td>\n",
       "      <td>...</td>\n",
       "      <td>24107</td>\n",
       "      <td>1218</td>\n",
       "      <td>173</td>\n",
       "      <td>202206030326</td>\n",
       "      <td>39^220^16</td>\n",
       "      <td>0</td>\n",
       "      <td>15</td>\n",
       "      <td>5.0</td>\n",
       "      <td>0.0</td>\n",
       "      <td>0.0</td>\n",
       "    </tr>\n",
       "    <tr>\n",
       "      <th>4</th>\n",
       "      <td>373255</td>\n",
       "      <td>0.0</td>\n",
       "      <td>100005</td>\n",
       "      <td>3</td>\n",
       "      <td>2</td>\n",
       "      <td>16</td>\n",
       "      <td>147</td>\n",
       "      <td>2</td>\n",
       "      <td>32</td>\n",
       "      <td>6</td>\n",
       "      <td>...</td>\n",
       "      <td>24107</td>\n",
       "      <td>1218</td>\n",
       "      <td>173</td>\n",
       "      <td>202206030328</td>\n",
       "      <td>39^220^16</td>\n",
       "      <td>0</td>\n",
       "      <td>15</td>\n",
       "      <td>5.0</td>\n",
       "      <td>0.0</td>\n",
       "      <td>0.0</td>\n",
       "    </tr>\n",
       "  </tbody>\n",
       "</table>\n",
       "<p>5 rows × 38 columns</p>\n",
       "</div>"
      ],
      "text/plain": [
       "   log_id  label  user_id  age  gender  residence  city  city_rank  \\\n",
       "0  373250    0.0   100005    3       2         16   147          2   \n",
       "1  373253    1.0   100005    3       2         16   147          2   \n",
       "2  373252    1.0   100005    3       2         16   147          2   \n",
       "3  373251    0.0   100005    3       2         16   147          2   \n",
       "4  373255    0.0   100005    3       2         16   147          2   \n",
       "\n",
       "   series_dev  series_group  ...  ad_close_list_v001  ad_close_list_v002  \\\n",
       "0          32             6  ...               24107                1218   \n",
       "1          32             6  ...               24107                1218   \n",
       "2          32             6  ...               24107                1218   \n",
       "3          32             6  ...               24107                1218   \n",
       "4          32             6  ...               24107                1218   \n",
       "\n",
       "   ad_close_list_v003          pt_d  u_newsCatInterestsST  u_refreshTimes  \\\n",
       "0                 173  202206030326             39^220^16               0   \n",
       "1                 173  202206030326             39^220^16               0   \n",
       "2                 173  202206030326             39^220^16               0   \n",
       "3                 173  202206030326             39^220^16               0   \n",
       "4                 173  202206030328             39^220^16               0   \n",
       "\n",
       "   u_feedLifeCycle  feeds_imps  feeds_clicks  feeds_ctr  \n",
       "0               15         5.0           0.0        0.0  \n",
       "1               15         5.0           0.0        0.0  \n",
       "2               15         5.0           0.0        0.0  \n",
       "3               15         5.0           0.0        0.0  \n",
       "4               15         5.0           0.0        0.0  \n",
       "\n",
       "[5 rows x 38 columns]"
      ]
     },
     "execution_count": 14,
     "metadata": {},
     "output_type": "execute_result"
    }
   ],
   "source": [
    "train_merged.info()\n",
    "test_merged.info()\n",
    "train_merged.head()"
   ]
  },
  {
   "cell_type": "markdown",
   "metadata": {},
   "source": [
    "### Variables Summary\n",
    "\n",
    "The following table summarizes all variables used in the CTR prediction model, their meanings, and data sources:\n",
    "\n",
    "| Variable | Description | Data Source |\n",
    "|-----------|--------------|--------------|\n",
    "| *label* | Response variable: whether the user clicked the ad (1 = click, 0 = no click) | Target domain |\n",
    "| *user_id* | Unique user identifier | Target domain |\n",
    "| *log_id* | Unique sample identifier | Target domain |\n",
    "| *age* | User age group | Target domain |\n",
    "| *gender* | User gender | Target domain |\n",
    "| *residence* | User residence province ID | Target domain |\n",
    "| *device_name* | Device model name | Target domain |\n",
    "| *device_size* | Screen size category | Target domain |\n",
    "| *net_type* | Network type (e.g., WiFi, 4G, 5G) | Target domain |\n",
    "| *task_id* | Ad campaign ID | Target domain |\n",
    "| *adv_id* | Ad material ID | Target domain |\n",
    "| *creat_type_cd* | Creative type ID | Target domain |\n",
    "| *feeds_imps* | Total number of content impressions per user | Source domain (aggregated) |\n",
    "| *feeds_clicks* | Total number of content clicks per user | Source domain (aggregated) |\n",
    "| *feeds_ctr* | Average content CTR per user | Source domain (aggregated) |\n",
    "\n",
    "**Model goal:**\n",
    "Predict 'label' on user, ad, device, and source-domain behavior features.\n",
    "\n",
    "**Input features (X):**  \n",
    "All columns except *label*, *user_id*, and *log_id*.  \n",
    "\n",
    "**Response variable (Y):**  \n",
    "*label* (0/1)\n"
   ]
  },
  {
   "cell_type": "markdown",
   "metadata": {},
   "source": [
    "### Baseline Models: Logistic regression"
   ]
  },
  {
   "cell_type": "markdown",
   "metadata": {},
   "source": [
    "## Feature Encoding Analysis & Implementation\n",
    "\n",
    "### One-Hot Encoding for Categorical Variables\n",
    "\n",
    "First, let's examine the cardinality (number of unique values) of our categorical features to determine which are suitable for one-hot encoding.\n"
   ]
  },
  {
   "cell_type": "code",
   "execution_count": 15,
   "metadata": {},
   "outputs": [
    {
     "name": "stdout",
     "output_type": "stream",
     "text": [
      "Categorical Feature Cardinality Analysis\n",
      "==================================================\n",
      "gender                    |      3 unique | ✓ One-hot encode (low cardinality)\n",
      "age                       |      8 unique | ✓ One-hot encode (low cardinality)\n",
      "residence                 |     35 unique | ⚠ Consider target encoding or grouping\n",
      "city                      |    341 unique | ✗ Too high cardinality - use target/frequency encoding\n",
      "city_rank                 |      4 unique | ✓ One-hot encode (low cardinality)\n",
      "series_dev                |     27 unique | ⚠ Consider target encoding or grouping\n",
      "series_group              |      7 unique | ✓ One-hot encode (low cardinality)\n",
      "emui_dev                  |     27 unique | ⚠ Consider target encoding or grouping\n",
      "device_name               |    256 unique | ✗ Too high cardinality - use target/frequency encoding\n",
      "device_size               |   1547 unique | ✗ Too high cardinality - use target/frequency encoding\n",
      "net_type                  |      6 unique | ✓ One-hot encode (low cardinality)\n",
      "task_id                   |  11209 unique | ✗ Too high cardinality - use target/frequency encoding\n",
      "adv_id                    |  12615 unique | ✗ Too high cardinality - use target/frequency encoding\n",
      "creat_type_cd             |      9 unique | ✓ One-hot encode (low cardinality)\n",
      "adv_prim_id               |    545 unique | ✗ Too high cardinality - use target/frequency encoding\n",
      "inter_type_cd             |      4 unique | ✓ One-hot encode (low cardinality)\n",
      "slot_id                   |     60 unique | ✗ Too high cardinality - use target/frequency encoding\n",
      "site_id                   |      1 unique | ✓ One-hot encode (low cardinality)\n",
      "spread_app_id             |    116 unique | ✗ Too high cardinality - use target/frequency encoding\n",
      "hispace_app_tags          |     43 unique | ⚠ Consider target encoding or grouping\n",
      "app_second_class          |     20 unique | ⚠ Consider target encoding or grouping\n",
      "\n",
      "==================================================\n"
     ]
    }
   ],
   "source": [
    "# Check cardinality of categorical features\n",
    "categorical_features = ['gender', 'age', 'residence', 'city', 'city_rank', \n",
    "                       'series_dev', 'series_group', 'emui_dev', 'device_name', \n",
    "                       'device_size', 'net_type', 'task_id', 'adv_id', 'creat_type_cd',\n",
    "                       'adv_prim_id', 'inter_type_cd', 'slot_id', 'site_id', \n",
    "                       'spread_app_id', 'hispace_app_tags', 'app_second_class']\n",
    "\n",
    "print(\"Categorical Feature Cardinality Analysis\")\n",
    "print(\"=\" * 50)\n",
    "\n",
    "for col in categorical_features:\n",
    "    if col in train_merged.columns:\n",
    "        n_unique = train_merged[col].nunique()\n",
    "        dtype = train_merged[col].dtype\n",
    "        \n",
    "        # Categorize recommendation\n",
    "        if n_unique <= 10:\n",
    "            recommendation = \"✓ One-hot encode (low cardinality)\"\n",
    "        elif n_unique <= 50:\n",
    "            recommendation = \"⚠ Consider target encoding or grouping\"\n",
    "        else:\n",
    "            recommendation = \"✗ Too high cardinality - use target/frequency encoding\"\n",
    "            \n",
    "        print(f\"{col:25} | {n_unique:6} unique | {recommendation}\")\n",
    "\n",
    "print(\"\\n\" + \"=\" * 50)\n"
   ]
  },
  {
   "cell_type": "markdown",
   "metadata": {},
   "source": [
    "### Implementation: One-Hot Encoding\n",
    "\n",
    "Based on the cardinality analysis, we'll:\n",
    "1. **One-hot encode**: Features with ≤10 unique values (gender, net_type, etc.)\n",
    "2. **Keep as numeric**: Features that are truly ordinal (age, city_rank) or have natural ordering\n",
    "3. **Handle separately**: High cardinality features (device_name, adv_id, etc.)\n"
   ]
  },
  {
   "cell_type": "code",
   "execution_count": 16,
   "metadata": {},
   "outputs": [
    {
     "name": "stdout",
     "output_type": "stream",
     "text": [
      "Before encoding:\n",
      "Gender unique values: [2 4 3]\n",
      "Gender value counts:\n",
      "gender\n",
      "2    5946172\n",
      "3     550437\n",
      "4    1178908\n",
      "Name: count, dtype: int64\n",
      "\n",
      "After one-hot encoding gender:\n",
      "New columns: ['gender_3', 'gender_4']\n",
      "Train shape: (7675517, 39)\n",
      "Test shape: (976058, 39)\n",
      "\n",
      "Gender column details:\n",
      "gender_3     550437\n",
      "gender_4    1178908\n",
      "dtype: int64\n"
     ]
    }
   ],
   "source": [
    "# One-hot encode gender (confirmed low cardinality from above analysis)\n",
    "print(\"Before encoding:\")\n",
    "print(f\"Gender unique values: {train_merged['gender'].unique()}\")\n",
    "print(f\"Gender value counts:\\n{train_merged['gender'].value_counts().sort_index()}\\n\")\n",
    "\n",
    "# Create one-hot encoded features for gender\n",
    "gender_dummies_train = pd.get_dummies(train_merged['gender'], prefix='gender', drop_first=True)\n",
    "gender_dummies_test = pd.get_dummies(test_merged['gender'], prefix='gender', drop_first=True)\n",
    "\n",
    "# Drop original gender column and add one-hot encoded columns\n",
    "train_encoded = train_merged.drop(columns=['gender']).reset_index(drop=True)\n",
    "test_encoded = test_merged.drop(columns=['gender']).reset_index(drop=True)\n",
    "\n",
    "# Concatenate one-hot encoded features\n",
    "train_encoded = pd.concat([train_encoded, gender_dummies_train], axis=1)\n",
    "test_encoded = pd.concat([test_encoded, gender_dummies_test], axis=1)\n",
    "\n",
    "print(\"After one-hot encoding gender:\")\n",
    "print(f\"New columns: {gender_dummies_train.columns.tolist()}\")\n",
    "print(f\"Train shape: {train_encoded.shape}\")\n",
    "print(f\"Test shape: {test_encoded.shape}\")\n",
    "print(f\"\\nGender column details:\\n{gender_dummies_train.sum()}\")\n"
   ]
  },
  {
   "cell_type": "markdown",
   "metadata": {},
   "source": [
    "### Discussion: Other Variables to Consider for One-Hot Encoding\n",
    "\n",
    "**✓ Good candidates for one-hot encoding:**\n",
    "- **net_type**: Network type (WiFi, 4G, 5G) - nominal, likely ≤10 categories\n",
    "- **inter_type_cd**: Interaction type - likely few categories\n",
    "- **series_group**: Device series group - nominal feature\n",
    "\n",
    "**⚠ Consider but might need grouping:**\n",
    "- **city_rank**: If truly ordinal (1=Tier 1, 2=Tier 2, etc.) → keep numeric\n",
    "- If nominal → one-hot encode\n",
    "- **creat_type_cd**: Creative type - depends on number of unique values\n",
    "\n",
    "**✗ NOT suitable for one-hot (high cardinality):**\n",
    "- **device_name**: Likely 1000s of unique device models\n",
    "- **adv_id**: Unique ad IDs\n",
    "- **residence, city**: Geographic IDs with many unique values\n",
    "- **task_id**: Unique campaign IDs\n",
    "\n",
    "**📊 Treatment by Feature Type:**\n",
    "\n",
    "| Feature | Encoding Strategy | Reason |\n",
    "|---------|------------------|--------|\n",
    "| gender | **One-hot** | Nominal (male/female/other), low cardinality |\n",
    "| age | **Numeric** | Ordinal (ordered age groups) |\n",
    "| city_rank | **Numeric** | Ordinal (Tier 1 > Tier 2 > Tier 3) |\n",
    "| net_type | **One-hot** | Nominal (WiFi ≠ 4G ≠ 5G), low cardinality |\n",
    "| residence | **Target encoding** | High cardinality (34 provinces), nominal |\n",
    "| device_name | **Target encoding** | Very high cardinality (1000s of devices) |\n",
    "| adv_id | **Target encoding** | Unique ad IDs, no meaningful order |\n",
    "\n",
    "**Why drop_first=True?**\n",
    "- Prevents multicollinearity (dummy variable trap)\n",
    "- For gender with k categories, we create k-1 dummy variables\n",
    "- One category becomes the reference (baseline)\n"
   ]
  },
  {
   "cell_type": "code",
   "execution_count": 17,
   "metadata": {},
   "outputs": [
    {
     "name": "stdout",
     "output_type": "stream",
     "text": [
      "Before encoding:\n",
      "net_type unique values: [7 6 4 3 2 5]\n",
      "net_type value counts:\n",
      "net_type\n",
      "2       1278\n",
      "3     302668\n",
      "4     872000\n",
      "5       2043\n",
      "6     924118\n",
      "7    5573410\n",
      "Name: count, dtype: int64\n",
      "\n",
      "After one-hot encoding net_type:\n",
      "New columns: ['net_type_3', 'net_type_4', 'net_type_5', 'net_type_6', 'net_type_7']\n",
      "Train shape: (7675517, 43)\n",
      "Test shape: (976058, 43)\n",
      "\n",
      "Net_type column details:\n",
      "net_type_3     302668\n",
      "net_type_4     872000\n",
      "net_type_5       2043\n",
      "net_type_6     924118\n",
      "net_type_7    5573410\n",
      "dtype: int64\n"
     ]
    }
   ],
   "source": [
    "# One-hot encode net_type\n",
    "print(\"Before encoding:\")\n",
    "print(f\"net_type unique values: {train_encoded['net_type'].unique()}\")\n",
    "print(f\"net_type value counts:\\n{train_encoded['net_type'].value_counts().sort_index()}\\n\")\n",
    "\n",
    "# Create one-hot encoded features for net_type\n",
    "net_type_dummies_train = pd.get_dummies(train_encoded['net_type'], prefix='net_type', drop_first=True)\n",
    "net_type_dummies_test = pd.get_dummies(test_encoded['net_type'], prefix='net_type', drop_first=True)\n",
    "\n",
    "# Drop original net_type column and add one-hot encoded columns\n",
    "train_encoded = train_encoded.drop(columns=['net_type']).reset_index(drop=True)\n",
    "test_encoded = test_encoded.drop(columns=['net_type']).reset_index(drop=True)\n",
    "\n",
    "# Concatenate one-hot encoded features\n",
    "train_encoded = pd.concat([train_encoded, net_type_dummies_train], axis=1)\n",
    "test_encoded = pd.concat([test_encoded, net_type_dummies_test], axis=1)\n",
    "\n",
    "print(\"After one-hot encoding net_type:\")\n",
    "print(f\"New columns: {net_type_dummies_train.columns.tolist()}\")\n",
    "print(f\"Train shape: {train_encoded.shape}\")\n",
    "print(f\"Test shape: {test_encoded.shape}\")\n",
    "print(f\"\\nNet_type column details:\\n{net_type_dummies_train.sum()}\")\n"
   ]
  },
  {
   "cell_type": "code",
   "execution_count": 18,
   "metadata": {},
   "outputs": [
    {
     "name": "stdout",
     "output_type": "stream",
     "text": [
      "slot_id unique values:\n",
      "[np.int64(12), np.int64(13), np.int64(14), np.int64(15), np.int64(16), np.int64(17), np.int64(18), np.int64(19), np.int64(20), np.int64(21), np.int64(22), np.int64(23), np.int64(24), np.int64(25), np.int64(26), np.int64(27), np.int64(28), np.int64(29), np.int64(30), np.int64(31), np.int64(32), np.int64(33), np.int64(34), np.int64(35), np.int64(36), np.int64(37), np.int64(38), np.int64(39), np.int64(40), np.int64(41), np.int64(42), np.int64(43), np.int64(44), np.int64(45), np.int64(46), np.int64(47), np.int64(48), np.int64(49), np.int64(50), np.int64(51), np.int64(52), np.int64(53), np.int64(54), np.int64(55), np.int64(56), np.int64(57), np.int64(58), np.int64(59), np.int64(60), np.int64(61), np.int64(62), np.int64(63), np.int64(64), np.int64(65), np.int64(66), np.int64(67), np.int64(68), np.int64(69), np.int64(70), np.int64(71)]\n",
      "\n",
      "Total unique slot_id values: 60\n",
      "\n",
      "slot_id value counts (top 10):\n",
      "slot_id\n",
      "16    1794442\n",
      "17     555059\n",
      "54     438012\n",
      "38     388710\n",
      "50     384803\n",
      "59     356804\n",
      "22     348515\n",
      "13     286164\n",
      "35     283984\n",
      "12     244190\n",
      "Name: count, dtype: int64\n"
     ]
    }
   ],
   "source": [
    "# Check slot_id values\n",
    "print(\"slot_id unique values:\")\n",
    "print(sorted(train_merged['slot_id'].unique()))\n",
    "print(f\"\\nTotal unique slot_id values: {train_merged['slot_id'].nunique()}\")\n",
    "print(f\"\\nslot_id value counts (top 10):\")\n",
    "print(train_merged['slot_id'].value_counts().head(10))\n"
   ]
  },
  {
   "cell_type": "markdown",
   "metadata": {},
   "source": [
    "### Target Encoding for High Cardinality Features\n",
    "\n"
   ]
  },
  {
   "cell_type": "code",
   "execution_count": 19,
   "metadata": {},
   "outputs": [
    {
     "name": "stdout",
     "output_type": "stream",
     "text": [
      "After target encoding slot_id:\n",
      "Train shape: (7675517, 43)\n",
      "Test shape: (976058, 43)\n",
      "\n",
      "Slot_id encoding stats:\n",
      "Min encoded value: 0.0000\n",
      "Max encoded value: 0.4444\n",
      "Mean encoded value: 0.0306\n"
     ]
    }
   ],
   "source": [
    "# Target encoding for slot_id (60 unique values)\n",
    "# Replace each slot_id with the average CTR for that slot from training data\n",
    "slot_encoding = train_merged.groupby('slot_id')['label'].mean()\n",
    "\n",
    "# Apply to both train and test (using .map to handle missing values with fillna)\n",
    "train_encoded['slot_id_encoded'] = train_encoded['slot_id'].map(slot_encoding).fillna(train_merged['label'].mean())\n",
    "test_encoded['slot_id_encoded'] = test_encoded['slot_id'].map(slot_encoding).fillna(train_merged['label'].mean())\n",
    "\n",
    "# Drop original slot_id column\n",
    "train_encoded = train_encoded.drop(columns=['slot_id'])\n",
    "test_encoded = test_encoded.drop(columns=['slot_id'])\n",
    "\n",
    "print(\"After target encoding slot_id:\")\n",
    "print(f\"Train shape: {train_encoded.shape}\")\n",
    "print(f\"Test shape: {test_encoded.shape}\")\n",
    "print(f\"\\nSlot_id encoding stats:\")\n",
    "print(f\"Min encoded value: {slot_encoding.min():.4f}\")\n",
    "print(f\"Max encoded value: {slot_encoding.max():.4f}\")\n",
    "print(f\"Mean encoded value: {slot_encoding.mean():.4f}\")\n"
   ]
  },
  {
   "cell_type": "code",
   "execution_count": 20,
   "metadata": {},
   "outputs": [
    {
     "name": "stdout",
     "output_type": "stream",
     "text": [
      "Device_name encoding complete\n"
     ]
    }
   ],
   "source": [
    "# Target encoding for device_name (256 unique values)\n",
    "device_encoding = train_merged.groupby('device_name')['label'].mean()\n",
    "train_encoded['device_name_encoded'] = train_encoded['device_name'].map(device_encoding).fillna(train_merged['label'].mean())\n",
    "test_encoded['device_name_encoded'] = test_encoded['device_name'].map(device_encoding).fillna(train_merged['label'].mean())\n",
    "train_encoded = train_encoded.drop(columns=['device_name'])\n",
    "test_encoded = test_encoded.drop(columns=['device_name'])\n",
    "print(\"Device_name encoding complete\")\n"
   ]
  },
  {
   "cell_type": "code",
   "execution_count": 21,
   "metadata": {},
   "outputs": [
    {
     "name": "stdout",
     "output_type": "stream",
     "text": [
      "Task_id encoding complete\n"
     ]
    }
   ],
   "source": [
    "# Target encoding for task_id (11,209 unique values)\n",
    "task_encoding = train_merged.groupby('task_id')['label'].mean()\n",
    "train_encoded['task_id_encoded'] = train_encoded['task_id'].map(task_encoding).fillna(train_merged['label'].mean())\n",
    "test_encoded['task_id_encoded'] = test_encoded['task_id'].map(task_encoding).fillna(train_merged['label'].mean())\n",
    "train_encoded = train_encoded.drop(columns=['task_id'])\n",
    "test_encoded = test_encoded.drop(columns=['task_id'])\n",
    "print(\"Task_id encoding complete\")\n"
   ]
  },
  {
   "cell_type": "code",
   "execution_count": 22,
   "metadata": {},
   "outputs": [
    {
     "name": "stdout",
     "output_type": "stream",
     "text": [
      "Adv_id encoding complete\n"
     ]
    }
   ],
   "source": [
    "# Target encoding for adv_id (12,615 unique values)\n",
    "adv_encoding = train_merged.groupby('adv_id')['label'].mean()\n",
    "train_encoded['adv_id_encoded'] = train_encoded['adv_id'].map(adv_encoding).fillna(train_merged['label'].mean())\n",
    "test_encoded['adv_id_encoded'] = test_encoded['adv_id'].map(adv_encoding).fillna(train_merged['label'].mean())\n",
    "train_encoded = train_encoded.drop(columns=['adv_id'])\n",
    "test_encoded = test_encoded.drop(columns=['adv_id'])\n",
    "print(\"Adv_id encoding complete\")\n"
   ]
  },
  {
   "cell_type": "code",
   "execution_count": 23,
   "metadata": {},
   "outputs": [
    {
     "name": "stdout",
     "output_type": "stream",
     "text": [
      "City encoding complete\n"
     ]
    }
   ],
   "source": [
    "# Target encoding for city (341 unique values)\n",
    "city_encoding = train_merged.groupby('city')['label'].mean()\n",
    "train_encoded['city_encoded'] = train_encoded['city'].map(city_encoding).fillna(train_merged['label'].mean())\n",
    "test_encoded['city_encoded'] = test_encoded['city'].map(city_encoding).fillna(train_merged['label'].mean())\n",
    "train_encoded = train_encoded.drop(columns=['city'])\n",
    "test_encoded = test_encoded.drop(columns=['city'])\n",
    "print(\"City encoding complete\")\n"
   ]
  },
  {
   "cell_type": "code",
   "execution_count": 24,
   "metadata": {},
   "outputs": [
    {
     "name": "stdout",
     "output_type": "stream",
     "text": [
      "Adv_prim_id encoding complete\n"
     ]
    }
   ],
   "source": [
    "# Target encoding for adv_prim_id (545 unique values)\n",
    "adv_prim_encoding = train_merged.groupby('adv_prim_id')['label'].mean()\n",
    "train_encoded['adv_prim_id_encoded'] = train_encoded['adv_prim_id'].map(adv_prim_encoding).fillna(train_merged['label'].mean())\n",
    "test_encoded['adv_prim_id_encoded'] = test_encoded['adv_prim_id'].map(adv_prim_encoding).fillna(train_merged['label'].mean())\n",
    "train_encoded = train_encoded.drop(columns=['adv_prim_id'])\n",
    "test_encoded = test_encoded.drop(columns=['adv_prim_id'])\n",
    "print(\"Adv_prim_id encoding complete\")\n"
   ]
  },
  {
   "cell_type": "code",
   "execution_count": 25,
   "metadata": {},
   "outputs": [
    {
     "name": "stdout",
     "output_type": "stream",
     "text": [
      "Encoding complete!\n",
      "Final train shape: (7675517, 43)\n",
      "Final test shape: (976058, 43)\n",
      "\n",
      "Encoded columns: ['slot_id_encoded', 'device_name_encoded', 'task_id_encoded', 'adv_id_encoded', 'city_encoded', 'adv_prim_id_encoded']\n"
     ]
    }
   ],
   "source": [
    "# Final summary of encoded features\n",
    "print(\"Encoding complete!\")\n",
    "print(f\"Final train shape: {train_encoded.shape}\")\n",
    "print(f\"Final test shape: {test_encoded.shape}\")\n",
    "print(f\"\\nEncoded columns: {[col for col in train_encoded.columns if '_encoded' in col]}\")\n"
   ]
  },
  {
   "cell_type": "code",
   "execution_count": 26,
   "metadata": {},
   "outputs": [
    {
     "name": "stdout",
     "output_type": "stream",
     "text": [
      "After dropping site_id - Train shape: (7675517, 42), Test shape: (976058, 42)\n"
     ]
    }
   ],
   "source": [
    "# Drop site_id (constant feature with only 1 unique value)\n",
    "train_encoded = train_encoded.drop(columns=['site_id'])\n",
    "test_encoded = test_encoded.drop(columns=['site_id'])\n",
    "print(f\"After dropping site_id - Train shape: {train_encoded.shape}, Test shape: {test_encoded.shape}\")\n"
   ]
  },
  {
   "cell_type": "markdown",
   "metadata": {},
   "source": [
    "### Encoding Remaining Categorical Features\n",
    "\n",
    "One-hot encoding for low cardinality features (creat_type_cd, inter_type_cd, series_group) and target encoding for high cardinality feature (device_size).\n"
   ]
  },
  {
   "cell_type": "code",
   "execution_count": 27,
   "metadata": {},
   "outputs": [
    {
     "name": "stdout",
     "output_type": "stream",
     "text": [
      "creat_type_cd one-hot encoded - New columns: ['creat_type_3', 'creat_type_4', 'creat_type_5', 'creat_type_6', 'creat_type_7', 'creat_type_8', 'creat_type_9', 'creat_type_10']\n"
     ]
    }
   ],
   "source": [
    "# One-hot encode creat_type_cd (9 unique values)\n",
    "creat_type_dummies_train = pd.get_dummies(train_encoded['creat_type_cd'], prefix='creat_type', drop_first=True)\n",
    "creat_type_dummies_test = pd.get_dummies(test_encoded['creat_type_cd'], prefix='creat_type', drop_first=True)\n",
    "train_encoded = train_encoded.drop(columns=['creat_type_cd'])\n",
    "test_encoded = test_encoded.drop(columns=['creat_type_cd'])\n",
    "train_encoded = pd.concat([train_encoded, creat_type_dummies_train], axis=1)\n",
    "test_encoded = pd.concat([test_encoded, creat_type_dummies_test], axis=1)\n",
    "print(f\"creat_type_cd one-hot encoded - New columns: {creat_type_dummies_train.columns.tolist()}\")\n"
   ]
  },
  {
   "cell_type": "code",
   "execution_count": 28,
   "metadata": {},
   "outputs": [
    {
     "name": "stdout",
     "output_type": "stream",
     "text": [
      "inter_type_cd one-hot encoded - New columns: ['inter_type_3', 'inter_type_4', 'inter_type_5']\n"
     ]
    }
   ],
   "source": [
    "# One-hot encode inter_type_cd (4 unique values)\n",
    "inter_type_dummies_train = pd.get_dummies(train_encoded['inter_type_cd'], prefix='inter_type', drop_first=True)\n",
    "inter_type_dummies_test = pd.get_dummies(test_encoded['inter_type_cd'], prefix='inter_type', drop_first=True)\n",
    "train_encoded = train_encoded.drop(columns=['inter_type_cd'])\n",
    "test_encoded = test_encoded.drop(columns=['inter_type_cd'])\n",
    "train_encoded = pd.concat([train_encoded, inter_type_dummies_train], axis=1)\n",
    "test_encoded = pd.concat([test_encoded, inter_type_dummies_test], axis=1)\n",
    "print(f\"inter_type_cd one-hot encoded - New columns: {inter_type_dummies_train.columns.tolist()}\")\n"
   ]
  },
  {
   "cell_type": "code",
   "execution_count": 29,
   "metadata": {},
   "outputs": [
    {
     "name": "stdout",
     "output_type": "stream",
     "text": [
      "series_group one-hot encoded - New columns: ['series_group_3', 'series_group_4', 'series_group_5', 'series_group_6', 'series_group_7', 'series_group_8']\n"
     ]
    }
   ],
   "source": [
    "# One-hot encode series_group (7 unique values)\n",
    "series_group_dummies_train = pd.get_dummies(train_encoded['series_group'], prefix='series_group', drop_first=True)\n",
    "series_group_dummies_test = pd.get_dummies(test_encoded['series_group'], prefix='series_group', drop_first=True)\n",
    "train_encoded = train_encoded.drop(columns=['series_group'])\n",
    "test_encoded = test_encoded.drop(columns=['series_group'])\n",
    "train_encoded = pd.concat([train_encoded, series_group_dummies_train], axis=1)\n",
    "test_encoded = pd.concat([test_encoded, series_group_dummies_test], axis=1)\n",
    "print(f\"series_group one-hot encoded - New columns: {series_group_dummies_train.columns.tolist()}\")\n"
   ]
  },
  {
   "cell_type": "code",
   "execution_count": 30,
   "metadata": {},
   "outputs": [
    {
     "name": "stdout",
     "output_type": "stream",
     "text": [
      "device_size target encoding complete - Train shape: (7675517, 56), Test shape: (976058, 56)\n"
     ]
    }
   ],
   "source": [
    "# Target encoding for device_size (1,547 unique values)\n",
    "device_size_encoding = train_merged.groupby('device_size')['label'].mean()\n",
    "train_encoded['device_size_encoded'] = train_encoded['device_size'].map(device_size_encoding).fillna(train_merged['label'].mean())\n",
    "test_encoded['device_size_encoded'] = test_encoded['device_size'].map(device_size_encoding).fillna(train_merged['label'].mean())\n",
    "train_encoded = train_encoded.drop(columns=['device_size'])\n",
    "test_encoded = test_encoded.drop(columns=['device_size'])\n",
    "print(f\"device_size target encoding complete - Train shape: {train_encoded.shape}, Test shape: {test_encoded.shape}\")\n"
   ]
  },
  {
   "cell_type": "markdown",
   "metadata": {},
   "source": [
    "### Target Encoding Remaining Medium-Cardinality Features\n",
    "\n",
    "Encoding residence, series_dev, emui_dev, hispace_app_tags, app_second_class, and spread_app_id.\n"
   ]
  },
  {
   "cell_type": "code",
   "execution_count": null,
   "metadata": {},
   "outputs": [
    {
     "name": "stdout",
     "output_type": "stream",
     "text": [
      "residence encoding complete\n"
     ]
    }
   ],
   "source": [
    "# Target encoding for residence (35 unique values)\n",
    "residence_encoding = train_merged.groupby('residence')['label'].mean()\n",
    "train_encoded['residence_encoded'] = train_encoded['residence'].map(residence_encoding).fillna(train_merged['label'].mean())\n",
    "test_encoded['residence_encoded'] = test_encoded['residence'].map(residence_encoding).fillna(train_merged['label'].mean())\n",
    "train_encoded = train_encoded.drop(columns=['residence'])\n",
    "test_encoded = test_encoded.drop(columns=['residence'])\n"
   ]
  },
  {
   "cell_type": "code",
   "execution_count": 32,
   "metadata": {},
   "outputs": [],
   "source": [
    "# Target encoding for series_dev (27 unique values)\n",
    "series_dev_encoding = train_merged.groupby('series_dev')['label'].mean()\n",
    "train_encoded['series_dev_encoded'] = train_encoded['series_dev'].map(series_dev_encoding).fillna(train_merged['label'].mean())\n",
    "test_encoded['series_dev_encoded'] = test_encoded['series_dev'].map(series_dev_encoding).fillna(train_merged['label'].mean())\n",
    "train_encoded = train_encoded.drop(columns=['series_dev'])\n",
    "test_encoded = test_encoded.drop(columns=['series_dev'])\n"
   ]
  },
  {
   "cell_type": "code",
   "execution_count": 33,
   "metadata": {},
   "outputs": [],
   "source": [
    "# Target encoding for emui_dev (27 unique values)\n",
    "emui_dev_encoding = train_merged.groupby('emui_dev')['label'].mean()\n",
    "train_encoded['emui_dev_encoded'] = train_encoded['emui_dev'].map(emui_dev_encoding).fillna(train_merged['label'].mean())\n",
    "test_encoded['emui_dev_encoded'] = test_encoded['emui_dev'].map(emui_dev_encoding).fillna(train_merged['label'].mean())\n",
    "train_encoded = train_encoded.drop(columns=['emui_dev'])\n",
    "test_encoded = test_encoded.drop(columns=['emui_dev'])\n"
   ]
  },
  {
   "cell_type": "code",
   "execution_count": 34,
   "metadata": {},
   "outputs": [],
   "source": [
    "# Target encoding for hispace_app_tags (43 unique values)\n",
    "hispace_encoding = train_merged.groupby('hispace_app_tags')['label'].mean()\n",
    "train_encoded['hispace_app_tags_encoded'] = train_encoded['hispace_app_tags'].map(hispace_encoding).fillna(train_merged['label'].mean())\n",
    "test_encoded['hispace_app_tags_encoded'] = test_encoded['hispace_app_tags'].map(hispace_encoding).fillna(train_merged['label'].mean())\n",
    "train_encoded = train_encoded.drop(columns=['hispace_app_tags'])\n",
    "test_encoded = test_encoded.drop(columns=['hispace_app_tags'])\n"
   ]
  },
  {
   "cell_type": "code",
   "execution_count": 35,
   "metadata": {},
   "outputs": [],
   "source": [
    "# Target encoding for app_second_class (20 unique values)\n",
    "app_second_encoding = train_merged.groupby('app_second_class')['label'].mean()\n",
    "train_encoded['app_second_class_encoded'] = train_encoded['app_second_class'].map(app_second_encoding).fillna(train_merged['label'].mean())\n",
    "test_encoded['app_second_class_encoded'] = test_encoded['app_second_class'].map(app_second_encoding).fillna(train_merged['label'].mean())\n",
    "train_encoded = train_encoded.drop(columns=['app_second_class'])\n",
    "test_encoded = test_encoded.drop(columns=['app_second_class'])\n"
   ]
  },
  {
   "cell_type": "code",
   "execution_count": 36,
   "metadata": {},
   "outputs": [
    {
     "name": "stdout",
     "output_type": "stream",
     "text": [
      "spread_app_id encoding complete\n",
      "\n",
      "Final train shape: (7675517, 56), Test shape: (976058, 56)\n"
     ]
    }
   ],
   "source": [
    "# Target encoding for spread_app_id (116 unique values)\n",
    "spread_app_encoding = train_merged.groupby('spread_app_id')['label'].mean()\n",
    "train_encoded['spread_app_id_encoded'] = train_encoded['spread_app_id'].map(spread_app_encoding).fillna(train_merged['label'].mean())\n",
    "test_encoded['spread_app_id_encoded'] = test_encoded['spread_app_id'].map(spread_app_encoding).fillna(train_merged['label'].mean())\n",
    "train_encoded = train_encoded.drop(columns=['spread_app_id'])\n",
    "test_encoded = test_encoded.drop(columns=['spread_app_id'])\n",
    "print(\"spread_app_id encoding complete\")\n",
    "print(f\"\\nFinal train shape: {train_encoded.shape}, Test shape: {test_encoded.shape}\")\n"
   ]
  }
 ],
 "metadata": {
  "kaggle": {
   "accelerator": "none",
   "dataSources": [
    {
     "datasetId": 2370668,
     "sourceId": 3995276,
     "sourceType": "datasetVersion"
    },
    {
     "datasetId": 8559597,
     "sourceId": 13482259,
     "sourceType": "datasetVersion"
    }
   ],
   "dockerImageVersionId": 31153,
   "isGpuEnabled": false,
   "isInternetEnabled": false,
   "language": "python",
   "sourceType": "notebook"
  },
  "kernelspec": {
   "display_name": "Global Python 3.12",
   "language": "python",
   "name": "global-python"
  },
  "language_info": {
   "codemirror_mode": {
    "name": "ipython",
    "version": 3
   },
   "file_extension": ".py",
   "mimetype": "text/x-python",
   "name": "python",
   "nbconvert_exporter": "python",
   "pygments_lexer": "ipython3",
   "version": "3.12.6"
  }
 },
 "nbformat": 4,
 "nbformat_minor": 4
}
