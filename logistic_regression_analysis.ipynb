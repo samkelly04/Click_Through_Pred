{
 "cells": [
  {
   "cell_type": "markdown",
   "metadata": {},
   "source": [
    "# Logistic Regression Analysis for CTR Prediction\n\n",
    "This notebook contains all logistic regression models and comparisons:\n",
    "- Downsampled approach (590K samples)\n",
    "- Class-weighted approach (6.14M samples)\n",
    "- Hyperparameter tuning (C regularization)\n",
    "- Threshold optimization\n\n",
    "**Main finding**: All LR models achieve AUC ~0.75, with class-weighted models ",
    "achieving significantly higher recall (72% vs 8%) at the cost of precision."
   ]
  },
  {
   "cell_type": "code",
   "execution_count": 73,
   "metadata": {
    "_cell_guid": "b1076dfc-b9ad-4769-8c92-a6c4dae69d19",
    "_uuid": "8f2839f25d086af736a60e9eeb907d3b93b6e0e5",
    "execution": {
     "iopub.execute_input": "2025-10-27T03:15:11.862401Z",
     "iopub.status.busy": "2025-10-27T03:15:11.861834Z",
     "iopub.status.idle": "2025-10-27T03:15:13.360164Z",
     "shell.execute_reply": "2025-10-27T03:15:13.359456Z",
     "shell.execute_reply.started": "2025-10-27T03:15:11.862376Z"
    },
    "trusted": true
   },
   "outputs": [],
   "source": [
    "# load libraries\n",
    "import numpy as np\n",
    "import pandas as pd\n",
    "import matplotlib.pyplot as plt\n",
    "import seaborn as sns\n",
    "import gc\n",
    "from sklearn.preprocessing import LabelEncoder, StandardScaler\n",
    "from sklearn.linear_model import LogisticRegression\n",
    "from sklearn.metrics import (\n",
    "    confusion_matrix, ConfusionMatrixDisplay,\n",
    "    roc_curve, auc, accuracy_score, precision_score, recall_score, f1_score,\n",
    "    roc_auc_score, RocCurveDisplay, PrecisionRecallDisplay,\n",
    "    classification_report\n",
    ")\n",
    "from sklearn.utils import resample\n",
    "from sklearn.model_selection import cross_val_score, cross_validate, train_test_split\n",
    "%matplotlib inline"
   ]
  },
  {
   "cell_type": "code",
   "execution_count": 74,
   "metadata": {
    "execution": {
     "iopub.execute_input": "2025-10-27T03:15:23.382333Z",
     "iopub.status.busy": "2025-10-27T03:15:23.381889Z",
     "iopub.status.idle": "2025-10-27T03:16:46.673093Z",
     "shell.execute_reply": "2025-10-27T03:16:46.672448Z",
     "shell.execute_reply.started": "2025-10-27T03:15:23.382308Z"
    },
    "trusted": true
   },
   "outputs": [],
   "source": [
    "train_user = pd.read_csv('train_data_ads.csv')\n",
    "train_adv = pd.read_csv('train_data_feeds.csv')"
   ]
  },
  {
   "cell_type": "code",
   "execution_count": 75,
   "metadata": {
    "execution": {
     "iopub.execute_input": "2025-10-27T03:17:02.757149Z",
     "iopub.status.busy": "2025-10-27T03:17:02.756622Z",
     "iopub.status.idle": "2025-10-27T03:17:02.783425Z",
     "shell.execute_reply": "2025-10-27T03:17:02.782714Z",
     "shell.execute_reply.started": "2025-10-27T03:17:02.757124Z"
    },
    "trusted": true
   },
   "outputs": [
    {
     "name": "stdout",
     "output_type": "stream",
     "text": [
      "<class 'pandas.core.frame.DataFrame'>\n",
      "RangeIndex: 3227732 entries, 0 to 3227731\n",
      "Data columns (total 28 columns):\n",
      " #   Column                Dtype \n",
      "---  ------                ----- \n",
      " 0   u_userId              int64 \n",
      " 1   u_phonePrice          int64 \n",
      " 2   u_browserLifeCycle    int64 \n",
      " 3   u_browserMode         int64 \n",
      " 4   u_feedLifeCycle       int64 \n",
      " 5   u_refreshTimes        int64 \n",
      " 6   u_newsCatInterests    object\n",
      " 7   u_newsCatDislike      object\n",
      " 8   u_newsCatInterestsST  object\n",
      " 9   u_click_ca2_news      object\n",
      " 10  i_docId               object\n",
      " 11  i_s_sourceId          object\n",
      " 12  i_regionEntity        int64 \n",
      " 13  i_cat                 int64 \n",
      " 14  i_entities            object\n",
      " 15  i_dislikeTimes        int64 \n",
      " 16  i_upTimes             int64 \n",
      " 17  i_dtype               int64 \n",
      " 18  e_ch                  int64 \n",
      " 19  e_m                   int64 \n",
      " 20  e_po                  int64 \n",
      " 21  e_pl                  int64 \n",
      " 22  e_rn                  int64 \n",
      " 23  e_section             int64 \n",
      " 24  e_et                  int64 \n",
      " 25  label                 int64 \n",
      " 26  cillabel              int64 \n",
      " 27  pro                   int64 \n",
      "dtypes: int64(21), object(7)\n",
      "memory usage: 689.5+ MB\n"
     ]
    }
   ],
   "source": [
    "train_adv.info()"
   ]
  },
  {
   "cell_type": "code",
   "execution_count": 76,
   "metadata": {
    "execution": {
     "iopub.execute_input": "2025-10-27T03:17:06.430639Z",
     "iopub.status.busy": "2025-10-27T03:17:06.430332Z",
     "iopub.status.idle": "2025-10-27T03:17:06.435752Z",
     "shell.execute_reply": "2025-10-27T03:17:06.434845Z",
     "shell.execute_reply.started": "2025-10-27T03:17:06.430615Z"
    },
    "trusted": true
   },
   "outputs": [],
   "source": [
    "train_adv.rename(columns={'u_userId': 'user_id'}, inplace=True)"
   ]
  },
  {
   "cell_type": "code",
   "execution_count": 77,
   "metadata": {
    "execution": {
     "iopub.execute_input": "2025-10-27T03:17:09.727271Z",
     "iopub.status.busy": "2025-10-27T03:17:09.726651Z",
     "iopub.status.idle": "2025-10-27T03:17:09.731544Z",
     "shell.execute_reply": "2025-10-27T03:17:09.730654Z",
     "shell.execute_reply.started": "2025-10-27T03:17:09.727216Z"
    },
    "trusted": true
   },
   "outputs": [],
   "source": [
    "user_var = [\n",
    "    'user_id',\n",
    "    'log_id',\n",
    "    'label',          # response variable\n",
    "    'age',\n",
    "    'residence',\n",
    "    'device_size',\n",
    "    'net_type',\n",
    "    'task_id',\n",
    "    'creat_type_cd',\n",
    "    'city_rank',       \n",
    "    'slot_id',         \n",
    "    #'spread_app_id',   \n",
    "    'adv_prim_id'      \n",
    "]\n",
    "\n",
    "adv_var = [\n",
    "    'user_id',\n",
    "    'label'\n",
    "]"
   ]
  },
  {
   "cell_type": "code",
   "execution_count": 78,
   "metadata": {
    "execution": {
     "iopub.execute_input": "2025-10-27T03:17:13.438445Z",
     "iopub.status.busy": "2025-10-27T03:17:13.438037Z",
     "iopub.status.idle": "2025-10-27T03:17:13.443745Z",
     "shell.execute_reply": "2025-10-27T03:17:13.442861Z",
     "shell.execute_reply.started": "2025-10-27T03:17:13.438418Z"
    },
    "trusted": true
   },
   "outputs": [],
   "source": [
    "def safe_keep(df, cols, name):\n",
    "    keep = [c for c in cols if c in df.columns]\n",
    "    miss = [c for c in cols if c not in df.columns]\n",
    "    if miss:\n",
    "        print(f\"[{name}] missing in the dataset: {miss}\")\n",
    "    return keep\n",
    "\n",
    "train_user_cols = safe_keep(train_user, user_var, \"train_user\")\n",
    "train_adv_cols  = safe_keep(train_adv,  adv_var,  \"train_adv\")"
   ]
  },
  {
   "cell_type": "code",
   "execution_count": 79,
   "metadata": {
    "execution": {
     "iopub.execute_input": "2025-10-27T03:17:16.504599Z",
     "iopub.status.busy": "2025-10-27T03:17:16.503841Z",
     "iopub.status.idle": "2025-10-27T03:17:18.080259Z",
     "shell.execute_reply": "2025-10-27T03:17:18.079212Z",
     "shell.execute_reply.started": "2025-10-27T03:17:16.504571Z"
    },
    "trusted": true
   },
   "outputs": [],
   "source": [
    "train_user = train_user[train_user_cols]\n",
    "train_adv  = train_adv[train_adv_cols]\n",
    "\n",
    "\n",
    "train_adv['label01'] = train_adv['label'].replace({-1: 0, 1: 1}).astype(int)\n",
    "# user_agg = (\n",
    "#     train_adv\n",
    "#     .groupby('user_id', as_index=False)\n",
    "#     .agg(\n",
    "#         feeds_imps=('label01', 'count'),\n",
    "#         feeds_clicks=('label01', 'sum'),\n",
    "#         feeds_ctr=('label01', 'count'/'sum')\n",
    "#     )\n",
    "# )\n",
    "\n",
    "user_agg = (\n",
    "    train_adv\n",
    "    .groupby('user_id', as_index=False)\n",
    "    .agg(\n",
    "        feeds_ctr=('label01', lambda x: x.sum() / len(x))\n",
    "    )\n",
    ")\n",
    "\n",
    "\n",
    "merged_train = train_user.merge(user_agg, on='user_id', how='left')"
   ]
  },
  {
   "cell_type": "code",
   "execution_count": 80,
   "metadata": {
    "execution": {
     "iopub.execute_input": "2025-10-27T03:17:21.195378Z",
     "iopub.status.busy": "2025-10-27T03:17:21.195050Z",
     "iopub.status.idle": "2025-10-27T03:17:21.292964Z",
     "shell.execute_reply": "2025-10-27T03:17:21.292119Z",
     "shell.execute_reply.started": "2025-10-27T03:17:21.195355Z"
    },
    "trusted": true
   },
   "outputs": [
    {
     "data": {
      "text/plain": [
       "26838"
      ]
     },
     "execution_count": 80,
     "metadata": {},
     "output_type": "execute_result"
    }
   ],
   "source": [
    "del train_user, train_adv\n",
    "gc.collect()"
   ]
  },
  {
   "cell_type": "code",
   "execution_count": 81,
   "metadata": {
    "execution": {
     "iopub.execute_input": "2025-10-27T03:17:23.818009Z",
     "iopub.status.busy": "2025-10-27T03:17:23.817716Z",
     "iopub.status.idle": "2025-10-27T03:17:23.827076Z",
     "shell.execute_reply": "2025-10-27T03:17:23.825978Z",
     "shell.execute_reply.started": "2025-10-27T03:17:23.817985Z"
    },
    "trusted": true
   },
   "outputs": [
    {
     "name": "stdout",
     "output_type": "stream",
     "text": [
      "<class 'pandas.core.frame.DataFrame'>\n",
      "RangeIndex: 7675517 entries, 0 to 7675516\n",
      "Data columns (total 13 columns):\n",
      " #   Column         Dtype  \n",
      "---  ------         -----  \n",
      " 0   user_id        int64  \n",
      " 1   log_id         int64  \n",
      " 2   label          int64  \n",
      " 3   age            int64  \n",
      " 4   residence      int64  \n",
      " 5   device_size    int64  \n",
      " 6   net_type       int64  \n",
      " 7   task_id        int64  \n",
      " 8   creat_type_cd  int64  \n",
      " 9   city_rank      int64  \n",
      " 10  slot_id        int64  \n",
      " 11  adv_prim_id    int64  \n",
      " 12  feeds_ctr      float64\n",
      "dtypes: float64(1), int64(12)\n",
      "memory usage: 761.3 MB\n"
     ]
    }
   ],
   "source": [
    "merged_train.info()"
   ]
  },
  {
   "cell_type": "code",
   "execution_count": 82,
   "metadata": {
    "execution": {
     "iopub.execute_input": "2025-10-27T03:56:51.773710Z",
     "iopub.status.busy": "2025-10-27T03:56:51.773351Z",
     "iopub.status.idle": "2025-10-27T03:57:32.412954Z",
     "shell.execute_reply": "2025-10-27T03:57:32.412182Z",
     "shell.execute_reply.started": "2025-10-27T03:56:51.773684Z"
    },
    "trusted": true
   },
   "outputs": [
    {
     "name": "stdout",
     "output_type": "stream",
     "text": [
      "[OHE] net_type -> 5 cols\n",
      "[OHE] creat_type_cd -> 8 cols\n",
      "[Ordinal keep] ['age', 'city_rank']\n",
      "[TE-OOF] slot_id -> slot_id_encoded\n",
      "[TE-OOF] task_id -> task_id_encoded\n",
      "[TE-OOF] adv_prim_id -> adv_prim_id_encoded\n",
      "[TE-OOF] device_size -> device_size_encoded\n",
      "[TE-OOF] residence -> residence_encoded\n",
      "Encoding complete!\n",
      "Final train shape: (6140413, 24)\n",
      "Final valid shape: (1535104, 24)\n",
      "Encoded columns (suffix _encoded): ['slot_id_encoded', 'task_id_encoded', 'adv_prim_id_encoded', 'device_size_encoded', 'residence_encoded']\n"
     ]
    }
   ],
   "source": [
    "from sklearn.model_selection import train_test_split, KFold\n",
    "\n",
    "SEED = 2025\n",
    "\n",
    "# Split into internal train / validation\n",
    "train_merged, test_merged = train_test_split(\n",
    "    merged_train,\n",
    "    test_size=0.2,\n",
    "    stratify=merged_train['label'],\n",
    "    random_state=SEED\n",
    ")\n",
    "\n",
    "train_encoded = train_merged.copy().reset_index(drop=True)\n",
    "test_encoded  = test_merged.copy().reset_index(drop=True)\n",
    "\n",
    "def ohe_fit_transform(train_df, test_df, col, drop_first=True, prefix=None):\n",
    "    \"\"\"Perform one-hot encoding on a single column; ensure test columns align with train\"\"\"\n",
    "    pref = prefix if prefix else col\n",
    "    dtrain = pd.get_dummies(train_df[col], prefix=pref, drop_first=drop_first)\n",
    "    dtest  = pd.get_dummies(test_df[col],  prefix=pref, drop_first=drop_first)\n",
    "    # Align columns (fill missing in test with 0, drop extra) and convert to int\n",
    "    dtest = dtest.reindex(columns=dtrain.columns, fill_value=0).astype(int)\n",
    "    dtrain = dtrain.astype(int)\n",
    "    # Concatenate back to the original dataset\n",
    "    train_out = pd.concat([train_df.drop(columns=[col]), dtrain], axis=1)\n",
    "    test_out  = pd.concat([test_df.drop(columns=[col]),  dtest],  axis=1)\n",
    "    return train_out, test_out, dtrain.columns.tolist()\n",
    "\n",
    "def target_encode_oof(train_df, test_df, col, y_col='label', n_splits=5, prior_mean=None):\n",
    "    \"\"\"\n",
    "    Perform out-of-fold (OOF) target encoding for high-cardinality features (to avoid leakage):\n",
    "      - Train folds: encode each fold using means computed from other folds\n",
    "      - Test set: encode using mean from full training data\n",
    "      - Missing values are filled with the global mean\n",
    "    \"\"\"\n",
    "    if prior_mean is None:\n",
    "        prior_mean = train_df[y_col].mean()\n",
    "\n",
    "    kf = KFold(n_splits=n_splits, shuffle=True, random_state=SEED)\n",
    "    oof_vals = pd.Series(index=train_df.index, dtype=float)\n",
    "\n",
    "    for tr_idx, val_idx in kf.split(train_df):\n",
    "        tr_fold = train_df.iloc[tr_idx]\n",
    "        val_fold_idx = train_df.index[val_idx]\n",
    "        # Compute mean in training folds\n",
    "        mapping = tr_fold.groupby(col)[y_col].mean()\n",
    "        # Map to validation fold\n",
    "        oof_vals.loc[val_fold_idx] = train_df.loc[val_fold_idx, col].map(mapping)\n",
    "\n",
    "    # Fill missing values in training with global mean\n",
    "    oof_vals = oof_vals.fillna(prior_mean)\n",
    "\n",
    "    # For test set, use overall training mean mapping\n",
    "    full_mapping = train_df.groupby(col)[y_col].mean()\n",
    "    test_vals = test_df[col].map(full_mapping).fillna(prior_mean)\n",
    "\n",
    "    # Write back and drop original column\n",
    "    te_col = f\"{col}_encoded\"\n",
    "    train_df = train_df.copy()\n",
    "    test_df  = test_df.copy()\n",
    "    train_df[te_col] = oof_vals.values\n",
    "    test_df[te_col]  = test_vals.values\n",
    "    train_df.drop(columns=[col], inplace=True)\n",
    "    test_df.drop(columns=[col], inplace=True)\n",
    "    return train_df, test_df, te_col\n",
    "\n",
    "# Low-cardinality features: one-hot encoding\n",
    "low_card_ohe = [\n",
    "    'gender',         # 3\n",
    "    'net_type',       # 6\n",
    "    'creat_type_cd',  # 9\n",
    "    'inter_type_cd',  # 4\n",
    "    'series_group',   # 7\n",
    "]\n",
    "for col in list(low_card_ohe):\n",
    "    if col in train_encoded.columns:\n",
    "        train_encoded, test_encoded, new_cols = ohe_fit_transform(train_encoded, test_encoded, col, drop_first=True, prefix=col)\n",
    "        print(f\"[OHE] {col} -> {len(new_cols)} cols\")\n",
    "\n",
    "# Keep numeric for ordinal variables\n",
    "ordinal_keep = ['age', 'city_rank']\n",
    "ordinal_keep = [c for c in ordinal_keep if c in train_encoded.columns]\n",
    "print(f\"[Ordinal keep] {ordinal_keep}\")\n",
    "\n",
    "# High/medium-cardinality features: target encoding\n",
    "high_card_te = [\n",
    "    # High cardinality features\n",
    "    'slot_id',        # 60\n",
    "    'device_name',    # 256\n",
    "    'task_id',        # 11209\n",
    "    'adv_id',         # 12615\n",
    "    'city',           # 341\n",
    "    'adv_prim_id',    # 545\n",
    "    'device_size',    # 1547\n",
    "    # Medium cardinality features\n",
    "    'residence',      # 35\n",
    "    'series_dev',     # 27\n",
    "    'emui_dev',       # 27\n",
    "    'hispace_app_tags',   # 43\n",
    "    'app_second_class',   # 20\n",
    "    'spread_app_id'       # 116\n",
    "]\n",
    "for col in list(high_card_te):\n",
    "    if col in train_encoded.columns:\n",
    "        train_encoded, test_encoded, te_name = target_encode_oof(train_encoded, test_encoded, col, y_col='label', n_splits=5)\n",
    "        print(f\"[TE-OOF] {col} -> {te_name}\")\n",
    "\n",
    "# Drop constant features (site_id with only one unique value)\n",
    "for maybe_const in ['site_id']:\n",
    "    if maybe_const in train_encoded.columns:\n",
    "        if train_encoded[maybe_const].nunique(dropna=False) <= 1 and test_encoded[maybe_const].nunique(dropna=False) <= 1:\n",
    "            train_encoded.drop(columns=[maybe_const], inplace=True)\n",
    "            test_encoded.drop(columns=[maybe_const], inplace=True)\n",
    "            print(f\"[Drop const] {maybe_const}\")\n",
    "\n",
    "print(\"Encoding complete!\")\n",
    "print(f\"Final train shape: {train_encoded.shape}\")\n",
    "print(f\"Final valid shape: {test_encoded.shape}\")\n",
    "print(\"Encoded columns (suffix _encoded):\",\n",
    "      [c for c in train_encoded.columns if c.endswith('_encoded')])"
   ]
  },
  {
   "cell_type": "code",
   "execution_count": 83,
   "metadata": {
    "execution": {
     "iopub.execute_input": "2025-10-27T03:57:48.184987Z",
     "iopub.status.busy": "2025-10-27T03:57:48.184323Z",
     "iopub.status.idle": "2025-10-27T03:57:48.193674Z",
     "shell.execute_reply": "2025-10-27T03:57:48.192867Z",
     "shell.execute_reply.started": "2025-10-27T03:57:48.184958Z"
    },
    "trusted": true
   },
   "outputs": [
    {
     "name": "stdout",
     "output_type": "stream",
     "text": [
      "<class 'pandas.core.frame.DataFrame'>\n",
      "RangeIndex: 6140413 entries, 0 to 6140412\n",
      "Data columns (total 24 columns):\n",
      " #   Column               Dtype  \n",
      "---  ------               -----  \n",
      " 0   user_id              int64  \n",
      " 1   log_id               int64  \n",
      " 2   label                int64  \n",
      " 3   age                  int64  \n",
      " 4   city_rank            int64  \n",
      " 5   feeds_ctr            float64\n",
      " 6   net_type_3           int64  \n",
      " 7   net_type_4           int64  \n",
      " 8   net_type_5           int64  \n",
      " 9   net_type_6           int64  \n",
      " 10  net_type_7           int64  \n",
      " 11  creat_type_cd_3      int64  \n",
      " 12  creat_type_cd_4      int64  \n",
      " 13  creat_type_cd_5      int64  \n",
      " 14  creat_type_cd_6      int64  \n",
      " 15  creat_type_cd_7      int64  \n",
      " 16  creat_type_cd_8      int64  \n",
      " 17  creat_type_cd_9      int64  \n",
      " 18  creat_type_cd_10     int64  \n",
      " 19  slot_id_encoded      float64\n",
      " 20  task_id_encoded      float64\n",
      " 21  adv_prim_id_encoded  float64\n",
      " 22  device_size_encoded  float64\n",
      " 23  residence_encoded    float64\n",
      "dtypes: float64(6), int64(18)\n",
      "memory usage: 1.1 GB\n"
     ]
    }
   ],
   "source": [
    "train_encoded.info()"
   ]
  },
  {
   "cell_type": "code",
   "execution_count": 84,
   "metadata": {
    "execution": {
     "iopub.execute_input": "2025-10-27T03:57:51.314861Z",
     "iopub.status.busy": "2025-10-27T03:57:51.314520Z",
     "iopub.status.idle": "2025-10-27T03:57:51.318476Z",
     "shell.execute_reply": "2025-10-27T03:57:51.317751Z",
     "shell.execute_reply.started": "2025-10-27T03:57:51.314836Z"
    },
    "trusted": true
   },
   "outputs": [],
   "source": [
    "train_df = train_encoded\n",
    "test_df = test_encoded"
   ]
  },
  {
   "cell_type": "code",
   "execution_count": 85,
   "metadata": {
    "execution": {
     "iopub.execute_input": "2025-10-27T03:57:53.784036Z",
     "iopub.status.busy": "2025-10-27T03:57:53.783289Z",
     "iopub.status.idle": "2025-10-27T03:57:54.249132Z",
     "shell.execute_reply": "2025-10-27T03:57:54.248422Z",
     "shell.execute_reply.started": "2025-10-27T03:57:53.784010Z"
    },
    "trusted": true
   },
   "outputs": [
    {
     "data": {
      "text/plain": [
       "0"
      ]
     },
     "execution_count": 85,
     "metadata": {},
     "output_type": "execute_result"
    }
   ],
   "source": [
    "train_df['istest'] = 0\n",
    "test_df['istest']  = 1\n",
    "data_user = pd.concat([train_df, test_df], axis=0, ignore_index=True)\n",
    "del train_df, test_df\n",
    "gc.collect()"
   ]
  },
  {
   "cell_type": "code",
   "execution_count": 86,
   "metadata": {
    "execution": {
     "iopub.execute_input": "2025-10-27T03:57:58.324595Z",
     "iopub.status.busy": "2025-10-27T03:57:58.324263Z",
     "iopub.status.idle": "2025-10-27T03:57:58.756295Z",
     "shell.execute_reply": "2025-10-27T03:57:58.755430Z",
     "shell.execute_reply.started": "2025-10-27T03:57:58.324572Z"
    },
    "trusted": true
   },
   "outputs": [
    {
     "name": "stdout",
     "output_type": "stream",
     "text": [
      "No missing values found!\n"
     ]
    }
   ],
   "source": [
    "data_user['label'] = data_user['label'].replace({-1: 0, 1: 1}).astype(int)\n",
    "\n",
    "# check missing\n",
    "na_summary = data_user.isna().sum().to_frame('n_missing')\n",
    "na_summary['percent_missing'] = (na_summary['n_missing'] / len(data_user)) * 100\n",
    "na_summary = na_summary[na_summary['n_missing'] > 0].sort_values(by='percent_missing', ascending=False)\n",
    "\n",
    "print(na_summary if not na_summary.empty else \"No missing values found!\")"
   ]
  },
  {
   "cell_type": "code",
   "execution_count": 87,
   "metadata": {
    "execution": {
     "iopub.execute_input": "2025-10-27T03:58:01.677341Z",
     "iopub.status.busy": "2025-10-27T03:58:01.676725Z",
     "iopub.status.idle": "2025-10-27T03:58:03.552273Z",
     "shell.execute_reply": "2025-10-27T03:58:03.551389Z",
     "shell.execute_reply.started": "2025-10-27T03:58:01.677313Z"
    },
    "trusted": true
   },
   "outputs": [
    {
     "name": "stdout",
     "output_type": "stream",
     "text": [
      "Train rows: 6140413  | Test rows: 1535104\n",
      "Train columns: 24  | Test columns: 24\n"
     ]
    }
   ],
   "source": [
    "# completed preprocessing\n",
    "train_data = data_user[data_user['istest']==0].drop(columns=['istest']).reset_index(drop=True)\n",
    "test_data  = data_user[data_user['istest']==1].drop(columns=['istest']).reset_index(drop=True)\n",
    "\n",
    "print(\"Train rows:\", len(train_data), \" | Test rows:\", len(test_data))\n",
    "print(\"Train columns:\", len(train_data.columns), \" | Test columns:\", len(test_data.columns))"
   ]
  },
  {
   "cell_type": "code",
   "execution_count": 88,
   "metadata": {
    "execution": {
     "iopub.execute_input": "2025-10-27T03:58:07.271194Z",
     "iopub.status.busy": "2025-10-27T03:58:07.270442Z",
     "iopub.status.idle": "2025-10-27T03:58:07.287703Z",
     "shell.execute_reply": "2025-10-27T03:58:07.286997Z",
     "shell.execute_reply.started": "2025-10-27T03:58:07.271168Z"
    },
    "trusted": true
   },
   "outputs": [
    {
     "data": {
      "text/html": [
       "<div>\n",
       "<style scoped>\n",
       "    .dataframe tbody tr th:only-of-type {\n",
       "        vertical-align: middle;\n",
       "    }\n",
       "\n",
       "    .dataframe tbody tr th {\n",
       "        vertical-align: top;\n",
       "    }\n",
       "\n",
       "    .dataframe thead th {\n",
       "        text-align: right;\n",
       "    }\n",
       "</style>\n",
       "<table border=\"1\" class=\"dataframe\">\n",
       "  <thead>\n",
       "    <tr style=\"text-align: right;\">\n",
       "      <th></th>\n",
       "      <th>user_id</th>\n",
       "      <th>log_id</th>\n",
       "      <th>label</th>\n",
       "      <th>age</th>\n",
       "      <th>city_rank</th>\n",
       "      <th>feeds_ctr</th>\n",
       "      <th>net_type_3</th>\n",
       "      <th>net_type_4</th>\n",
       "      <th>net_type_5</th>\n",
       "      <th>net_type_6</th>\n",
       "      <th>...</th>\n",
       "      <th>creat_type_cd_6</th>\n",
       "      <th>creat_type_cd_7</th>\n",
       "      <th>creat_type_cd_8</th>\n",
       "      <th>creat_type_cd_9</th>\n",
       "      <th>creat_type_cd_10</th>\n",
       "      <th>slot_id_encoded</th>\n",
       "      <th>task_id_encoded</th>\n",
       "      <th>adv_prim_id_encoded</th>\n",
       "      <th>device_size_encoded</th>\n",
       "      <th>residence_encoded</th>\n",
       "    </tr>\n",
       "  </thead>\n",
       "  <tbody>\n",
       "    <tr>\n",
       "      <th>0</th>\n",
       "      <td>259188</td>\n",
       "      <td>386612</td>\n",
       "      <td>0</td>\n",
       "      <td>7</td>\n",
       "      <td>2</td>\n",
       "      <td>0.156522</td>\n",
       "      <td>0</td>\n",
       "      <td>1</td>\n",
       "      <td>0</td>\n",
       "      <td>0</td>\n",
       "      <td>...</td>\n",
       "      <td>0</td>\n",
       "      <td>0</td>\n",
       "      <td>1</td>\n",
       "      <td>0</td>\n",
       "      <td>0</td>\n",
       "      <td>0.011339</td>\n",
       "      <td>0.009764</td>\n",
       "      <td>0.017279</td>\n",
       "      <td>0.015643</td>\n",
       "      <td>0.016795</td>\n",
       "    </tr>\n",
       "    <tr>\n",
       "      <th>1</th>\n",
       "      <td>129923</td>\n",
       "      <td>616900</td>\n",
       "      <td>0</td>\n",
       "      <td>8</td>\n",
       "      <td>5</td>\n",
       "      <td>0.159091</td>\n",
       "      <td>0</td>\n",
       "      <td>0</td>\n",
       "      <td>0</td>\n",
       "      <td>1</td>\n",
       "      <td>...</td>\n",
       "      <td>0</td>\n",
       "      <td>0</td>\n",
       "      <td>1</td>\n",
       "      <td>0</td>\n",
       "      <td>0</td>\n",
       "      <td>0.039464</td>\n",
       "      <td>0.005425</td>\n",
       "      <td>0.012526</td>\n",
       "      <td>0.010375</td>\n",
       "      <td>0.015914</td>\n",
       "    </tr>\n",
       "    <tr>\n",
       "      <th>2</th>\n",
       "      <td>126490</td>\n",
       "      <td>713006</td>\n",
       "      <td>0</td>\n",
       "      <td>3</td>\n",
       "      <td>5</td>\n",
       "      <td>0.051546</td>\n",
       "      <td>0</td>\n",
       "      <td>0</td>\n",
       "      <td>0</td>\n",
       "      <td>0</td>\n",
       "      <td>...</td>\n",
       "      <td>0</td>\n",
       "      <td>0</td>\n",
       "      <td>1</td>\n",
       "      <td>0</td>\n",
       "      <td>0</td>\n",
       "      <td>0.018226</td>\n",
       "      <td>0.012688</td>\n",
       "      <td>0.043239</td>\n",
       "      <td>0.012755</td>\n",
       "      <td>0.013789</td>\n",
       "    </tr>\n",
       "    <tr>\n",
       "      <th>3</th>\n",
       "      <td>244276</td>\n",
       "      <td>435725</td>\n",
       "      <td>0</td>\n",
       "      <td>7</td>\n",
       "      <td>2</td>\n",
       "      <td>0.189474</td>\n",
       "      <td>0</td>\n",
       "      <td>0</td>\n",
       "      <td>0</td>\n",
       "      <td>0</td>\n",
       "      <td>...</td>\n",
       "      <td>0</td>\n",
       "      <td>0</td>\n",
       "      <td>0</td>\n",
       "      <td>0</td>\n",
       "      <td>0</td>\n",
       "      <td>0.011216</td>\n",
       "      <td>0.014754</td>\n",
       "      <td>0.013446</td>\n",
       "      <td>0.018485</td>\n",
       "      <td>0.015328</td>\n",
       "    </tr>\n",
       "    <tr>\n",
       "      <th>4</th>\n",
       "      <td>101604</td>\n",
       "      <td>518213</td>\n",
       "      <td>0</td>\n",
       "      <td>7</td>\n",
       "      <td>2</td>\n",
       "      <td>0.117647</td>\n",
       "      <td>0</td>\n",
       "      <td>0</td>\n",
       "      <td>0</td>\n",
       "      <td>0</td>\n",
       "      <td>...</td>\n",
       "      <td>0</td>\n",
       "      <td>0</td>\n",
       "      <td>1</td>\n",
       "      <td>0</td>\n",
       "      <td>0</td>\n",
       "      <td>0.011816</td>\n",
       "      <td>0.016216</td>\n",
       "      <td>0.016045</td>\n",
       "      <td>0.018466</td>\n",
       "      <td>0.015233</td>\n",
       "    </tr>\n",
       "  </tbody>\n",
       "</table>\n",
       "<p>5 rows \u00d7 24 columns</p>\n",
       "</div>"
      ],
      "text/plain": [
       "   user_id  log_id  label  age  city_rank  feeds_ctr  net_type_3  net_type_4  \\\n",
       "0   259188  386612      0    7          2   0.156522           0           1   \n",
       "1   129923  616900      0    8          5   0.159091           0           0   \n",
       "2   126490  713006      0    3          5   0.051546           0           0   \n",
       "3   244276  435725      0    7          2   0.189474           0           0   \n",
       "4   101604  518213      0    7          2   0.117647           0           0   \n",
       "\n",
       "   net_type_5  net_type_6  ...  creat_type_cd_6  creat_type_cd_7  \\\n",
       "0           0           0  ...                0                0   \n",
       "1           0           1  ...                0                0   \n",
       "2           0           0  ...                0                0   \n",
       "3           0           0  ...                0                0   \n",
       "4           0           0  ...                0                0   \n",
       "\n",
       "   creat_type_cd_8  creat_type_cd_9  creat_type_cd_10  slot_id_encoded  \\\n",
       "0                1                0                 0         0.011339   \n",
       "1                1                0                 0         0.039464   \n",
       "2                1                0                 0         0.018226   \n",
       "3                0                0                 0         0.011216   \n",
       "4                1                0                 0         0.011816   \n",
       "\n",
       "   task_id_encoded  adv_prim_id_encoded  device_size_encoded  \\\n",
       "0         0.009764             0.017279             0.015643   \n",
       "1         0.005425             0.012526             0.010375   \n",
       "2         0.012688             0.043239             0.012755   \n",
       "3         0.014754             0.013446             0.018485   \n",
       "4         0.016216             0.016045             0.018466   \n",
       "\n",
       "   residence_encoded  \n",
       "0           0.016795  \n",
       "1           0.015914  \n",
       "2           0.013789  \n",
       "3           0.015328  \n",
       "4           0.015233  \n",
       "\n",
       "[5 rows x 24 columns]"
      ]
     },
     "execution_count": 88,
     "metadata": {},
     "output_type": "execute_result"
    }
   ],
   "source": [
    "train_data.head()"
   ]
  },
  {
   "cell_type": "code",
   "execution_count": 89,
   "metadata": {
    "execution": {
     "iopub.execute_input": "2025-10-27T03:58:14.334781Z",
     "iopub.status.busy": "2025-10-27T03:58:14.333905Z",
     "iopub.status.idle": "2025-10-27T03:58:14.343434Z",
     "shell.execute_reply": "2025-10-27T03:58:14.342566Z",
     "shell.execute_reply.started": "2025-10-27T03:58:14.334740Z"
    },
    "trusted": true
   },
   "outputs": [
    {
     "name": "stdout",
     "output_type": "stream",
     "text": [
      "<class 'pandas.core.frame.DataFrame'>\n",
      "RangeIndex: 6140413 entries, 0 to 6140412\n",
      "Data columns (total 24 columns):\n",
      " #   Column               Dtype  \n",
      "---  ------               -----  \n",
      " 0   user_id              int64  \n",
      " 1   log_id               int64  \n",
      " 2   label                int64  \n",
      " 3   age                  int64  \n",
      " 4   city_rank            int64  \n",
      " 5   feeds_ctr            float64\n",
      " 6   net_type_3           int64  \n",
      " 7   net_type_4           int64  \n",
      " 8   net_type_5           int64  \n",
      " 9   net_type_6           int64  \n",
      " 10  net_type_7           int64  \n",
      " 11  creat_type_cd_3      int64  \n",
      " 12  creat_type_cd_4      int64  \n",
      " 13  creat_type_cd_5      int64  \n",
      " 14  creat_type_cd_6      int64  \n",
      " 15  creat_type_cd_7      int64  \n",
      " 16  creat_type_cd_8      int64  \n",
      " 17  creat_type_cd_9      int64  \n",
      " 18  creat_type_cd_10     int64  \n",
      " 19  slot_id_encoded      float64\n",
      " 20  task_id_encoded      float64\n",
      " 21  adv_prim_id_encoded  float64\n",
      " 22  device_size_encoded  float64\n",
      " 23  residence_encoded    float64\n",
      "dtypes: float64(6), int64(18)\n",
      "memory usage: 1.1 GB\n"
     ]
    }
   ],
   "source": [
    "train_data.info()"
   ]
  },
  {
   "cell_type": "code",
   "execution_count": 90,
   "metadata": {},
   "outputs": [
    {
     "data": {
      "text/html": [
       "<div>\n",
       "<style scoped>\n",
       "    .dataframe tbody tr th:only-of-type {\n",
       "        vertical-align: middle;\n",
       "    }\n",
       "\n",
       "    .dataframe tbody tr th {\n",
       "        vertical-align: top;\n",
       "    }\n",
       "\n",
       "    .dataframe thead th {\n",
       "        text-align: right;\n",
       "    }\n",
       "</style>\n",
       "<table border=\"1\" class=\"dataframe\">\n",
       "  <thead>\n",
       "    <tr style=\"text-align: right;\">\n",
       "      <th></th>\n",
       "      <th>Feature_1</th>\n",
       "      <th>Feature_2</th>\n",
       "      <th>Correlation</th>\n",
       "    </tr>\n",
       "  </thead>\n",
       "  <tbody>\n",
       "    <tr>\n",
       "      <th>249</th>\n",
       "      <td>creat_type_cd_8</td>\n",
       "      <td>creat_type_cd_10</td>\n",
       "      <td>0.669562</td>\n",
       "    </tr>\n",
       "    <tr>\n",
       "      <th>270</th>\n",
       "      <td>task_id_encoded</td>\n",
       "      <td>adv_prim_id_encoded</td>\n",
       "      <td>0.657778</td>\n",
       "    </tr>\n",
       "    <tr>\n",
       "      <th>171</th>\n",
       "      <td>net_type_6</td>\n",
       "      <td>net_type_7</td>\n",
       "      <td>0.602274</td>\n",
       "    </tr>\n",
       "    <tr>\n",
       "      <th>261</th>\n",
       "      <td>creat_type_cd_10</td>\n",
       "      <td>slot_id_encoded</td>\n",
       "      <td>0.599694</td>\n",
       "    </tr>\n",
       "    <tr>\n",
       "      <th>142</th>\n",
       "      <td>net_type_4</td>\n",
       "      <td>net_type_7</td>\n",
       "      <td>0.582939</td>\n",
       "    </tr>\n",
       "  </tbody>\n",
       "</table>\n",
       "</div>"
      ],
      "text/plain": [
       "            Feature_1            Feature_2  Correlation\n",
       "249   creat_type_cd_8     creat_type_cd_10     0.669562\n",
       "270   task_id_encoded  adv_prim_id_encoded     0.657778\n",
       "171        net_type_6           net_type_7     0.602274\n",
       "261  creat_type_cd_10      slot_id_encoded     0.599694\n",
       "142        net_type_4           net_type_7     0.582939"
      ]
     },
     "metadata": {},
     "output_type": "display_data"
    }
   ],
   "source": [
    "# calculate correlation matrix\n",
    "corr_matrix = train_data.corr(numeric_only=True)\n",
    "\n",
    "# find absolute correlations\n",
    "corr_abs = corr_matrix.abs()\n",
    "\n",
    "# extract upper triangle of the correlation matrix\n",
    "upper_tri = corr_abs.where(np.triu(np.ones(corr_abs.shape), k=1).astype(bool))\n",
    "\n",
    "# find feature pairs with correlation greater than 0.5\n",
    "high_corr = (\n",
    "    upper_tri.stack()                # convert to long format\n",
    "    .reset_index()\n",
    "    .rename(columns={'level_0': 'Feature_1', 'level_1': 'Feature_2', 0: 'Correlation'})\n",
    "    .query('Correlation > 0.5')     # filter for high correlations\n",
    "    .sort_values(by='Correlation', ascending=False)\n",
    ")\n",
    "\n",
    "display(high_corr)"
   ]
  },
  {
   "cell_type": "code",
   "execution_count": 91,
   "metadata": {
    "execution": {
     "iopub.execute_input": "2025-10-27T03:58:18.160683Z",
     "iopub.status.busy": "2025-10-27T03:58:18.159892Z",
     "iopub.status.idle": "2025-10-27T03:58:18.177981Z",
     "shell.execute_reply": "2025-10-27T03:58:18.177284Z",
     "shell.execute_reply.started": "2025-10-27T03:58:18.160655Z"
    },
    "trusted": true
   },
   "outputs": [
    {
     "data": {
      "text/html": [
       "<div>\n",
       "<style scoped>\n",
       "    .dataframe tbody tr th:only-of-type {\n",
       "        vertical-align: middle;\n",
       "    }\n",
       "\n",
       "    .dataframe tbody tr th {\n",
       "        vertical-align: top;\n",
       "    }\n",
       "\n",
       "    .dataframe thead th {\n",
       "        text-align: right;\n",
       "    }\n",
       "</style>\n",
       "<table border=\"1\" class=\"dataframe\">\n",
       "  <thead>\n",
       "    <tr style=\"text-align: right;\">\n",
       "      <th></th>\n",
       "      <th>user_id</th>\n",
       "      <th>log_id</th>\n",
       "      <th>label</th>\n",
       "      <th>age</th>\n",
       "      <th>city_rank</th>\n",
       "      <th>feeds_ctr</th>\n",
       "      <th>net_type_3</th>\n",
       "      <th>net_type_4</th>\n",
       "      <th>net_type_5</th>\n",
       "      <th>net_type_6</th>\n",
       "      <th>...</th>\n",
       "      <th>creat_type_cd_6</th>\n",
       "      <th>creat_type_cd_7</th>\n",
       "      <th>creat_type_cd_8</th>\n",
       "      <th>creat_type_cd_9</th>\n",
       "      <th>creat_type_cd_10</th>\n",
       "      <th>slot_id_encoded</th>\n",
       "      <th>task_id_encoded</th>\n",
       "      <th>adv_prim_id_encoded</th>\n",
       "      <th>device_size_encoded</th>\n",
       "      <th>residence_encoded</th>\n",
       "    </tr>\n",
       "  </thead>\n",
       "  <tbody>\n",
       "    <tr>\n",
       "      <th>0</th>\n",
       "      <td>154633</td>\n",
       "      <td>763027</td>\n",
       "      <td>0</td>\n",
       "      <td>3</td>\n",
       "      <td>2</td>\n",
       "      <td>0.062857</td>\n",
       "      <td>0</td>\n",
       "      <td>0</td>\n",
       "      <td>0</td>\n",
       "      <td>0</td>\n",
       "      <td>...</td>\n",
       "      <td>0</td>\n",
       "      <td>0</td>\n",
       "      <td>1</td>\n",
       "      <td>0</td>\n",
       "      <td>0</td>\n",
       "      <td>0.010844</td>\n",
       "      <td>0.020955</td>\n",
       "      <td>0.028440</td>\n",
       "      <td>0.018430</td>\n",
       "      <td>0.016657</td>\n",
       "    </tr>\n",
       "    <tr>\n",
       "      <th>1</th>\n",
       "      <td>193700</td>\n",
       "      <td>1097030</td>\n",
       "      <td>1</td>\n",
       "      <td>7</td>\n",
       "      <td>4</td>\n",
       "      <td>0.227273</td>\n",
       "      <td>0</td>\n",
       "      <td>0</td>\n",
       "      <td>0</td>\n",
       "      <td>0</td>\n",
       "      <td>...</td>\n",
       "      <td>0</td>\n",
       "      <td>0</td>\n",
       "      <td>1</td>\n",
       "      <td>0</td>\n",
       "      <td>0</td>\n",
       "      <td>0.030358</td>\n",
       "      <td>0.020193</td>\n",
       "      <td>0.019587</td>\n",
       "      <td>0.018430</td>\n",
       "      <td>0.016211</td>\n",
       "    </tr>\n",
       "    <tr>\n",
       "      <th>2</th>\n",
       "      <td>111241</td>\n",
       "      <td>13137</td>\n",
       "      <td>0</td>\n",
       "      <td>3</td>\n",
       "      <td>5</td>\n",
       "      <td>0.107143</td>\n",
       "      <td>0</td>\n",
       "      <td>0</td>\n",
       "      <td>0</td>\n",
       "      <td>0</td>\n",
       "      <td>...</td>\n",
       "      <td>0</td>\n",
       "      <td>0</td>\n",
       "      <td>1</td>\n",
       "      <td>0</td>\n",
       "      <td>0</td>\n",
       "      <td>0.017229</td>\n",
       "      <td>0.048346</td>\n",
       "      <td>0.016672</td>\n",
       "      <td>0.019541</td>\n",
       "      <td>0.013675</td>\n",
       "    </tr>\n",
       "    <tr>\n",
       "      <th>3</th>\n",
       "      <td>188311</td>\n",
       "      <td>935043</td>\n",
       "      <td>0</td>\n",
       "      <td>2</td>\n",
       "      <td>4</td>\n",
       "      <td>0.187500</td>\n",
       "      <td>0</td>\n",
       "      <td>1</td>\n",
       "      <td>0</td>\n",
       "      <td>0</td>\n",
       "      <td>...</td>\n",
       "      <td>0</td>\n",
       "      <td>0</td>\n",
       "      <td>1</td>\n",
       "      <td>0</td>\n",
       "      <td>0</td>\n",
       "      <td>0.022055</td>\n",
       "      <td>0.013466</td>\n",
       "      <td>0.011638</td>\n",
       "      <td>0.018430</td>\n",
       "      <td>0.017297</td>\n",
       "    </tr>\n",
       "    <tr>\n",
       "      <th>4</th>\n",
       "      <td>266038</td>\n",
       "      <td>365561</td>\n",
       "      <td>0</td>\n",
       "      <td>5</td>\n",
       "      <td>5</td>\n",
       "      <td>0.073684</td>\n",
       "      <td>0</td>\n",
       "      <td>0</td>\n",
       "      <td>0</td>\n",
       "      <td>0</td>\n",
       "      <td>...</td>\n",
       "      <td>0</td>\n",
       "      <td>0</td>\n",
       "      <td>0</td>\n",
       "      <td>0</td>\n",
       "      <td>1</td>\n",
       "      <td>0.001809</td>\n",
       "      <td>0.001973</td>\n",
       "      <td>0.001951</td>\n",
       "      <td>0.012189</td>\n",
       "      <td>0.013675</td>\n",
       "    </tr>\n",
       "  </tbody>\n",
       "</table>\n",
       "<p>5 rows \u00d7 24 columns</p>\n",
       "</div>"
      ],
      "text/plain": [
       "   user_id   log_id  label  age  city_rank  feeds_ctr  net_type_3  net_type_4  \\\n",
       "0   154633   763027      0    3          2   0.062857           0           0   \n",
       "1   193700  1097030      1    7          4   0.227273           0           0   \n",
       "2   111241    13137      0    3          5   0.107143           0           0   \n",
       "3   188311   935043      0    2          4   0.187500           0           1   \n",
       "4   266038   365561      0    5          5   0.073684           0           0   \n",
       "\n",
       "   net_type_5  net_type_6  ...  creat_type_cd_6  creat_type_cd_7  \\\n",
       "0           0           0  ...                0                0   \n",
       "1           0           0  ...                0                0   \n",
       "2           0           0  ...                0                0   \n",
       "3           0           0  ...                0                0   \n",
       "4           0           0  ...                0                0   \n",
       "\n",
       "   creat_type_cd_8  creat_type_cd_9  creat_type_cd_10  slot_id_encoded  \\\n",
       "0                1                0                 0         0.010844   \n",
       "1                1                0                 0         0.030358   \n",
       "2                1                0                 0         0.017229   \n",
       "3                1                0                 0         0.022055   \n",
       "4                0                0                 1         0.001809   \n",
       "\n",
       "   task_id_encoded  adv_prim_id_encoded  device_size_encoded  \\\n",
       "0         0.020955             0.028440             0.018430   \n",
       "1         0.020193             0.019587             0.018430   \n",
       "2         0.048346             0.016672             0.019541   \n",
       "3         0.013466             0.011638             0.018430   \n",
       "4         0.001973             0.001951             0.012189   \n",
       "\n",
       "   residence_encoded  \n",
       "0           0.016657  \n",
       "1           0.016211  \n",
       "2           0.013675  \n",
       "3           0.017297  \n",
       "4           0.013675  \n",
       "\n",
       "[5 rows x 24 columns]"
      ]
     },
     "execution_count": 91,
     "metadata": {},
     "output_type": "execute_result"
    }
   ],
   "source": [
    "test_data.head()"
   ]
  },
  {
   "cell_type": "code",
   "execution_count": 92,
   "metadata": {
    "execution": {
     "iopub.execute_input": "2025-10-27T03:58:21.402303Z",
     "iopub.status.busy": "2025-10-27T03:58:21.401606Z",
     "iopub.status.idle": "2025-10-27T03:58:21.480544Z",
     "shell.execute_reply": "2025-10-27T03:58:21.479730Z",
     "shell.execute_reply.started": "2025-10-27T03:58:21.402272Z"
    },
    "trusted": true
   },
   "outputs": [
    {
     "name": "stdout",
     "output_type": "stream",
     "text": [
      "<class 'pandas.core.frame.DataFrame'>\n",
      "RangeIndex: 1535104 entries, 0 to 1535103\n",
      "Data columns (total 24 columns):\n",
      " #   Column               Non-Null Count    Dtype  \n",
      "---  ------               --------------    -----  \n",
      " 0   user_id              1535104 non-null  int64  \n",
      " 1   log_id               1535104 non-null  int64  \n",
      " 2   label                1535104 non-null  int64  \n",
      " 3   age                  1535104 non-null  int64  \n",
      " 4   city_rank            1535104 non-null  int64  \n",
      " 5   feeds_ctr            1535104 non-null  float64\n",
      " 6   net_type_3           1535104 non-null  int64  \n",
      " 7   net_type_4           1535104 non-null  int64  \n",
      " 8   net_type_5           1535104 non-null  int64  \n",
      " 9   net_type_6           1535104 non-null  int64  \n",
      " 10  net_type_7           1535104 non-null  int64  \n",
      " 11  creat_type_cd_3      1535104 non-null  int64  \n",
      " 12  creat_type_cd_4      1535104 non-null  int64  \n",
      " 13  creat_type_cd_5      1535104 non-null  int64  \n",
      " 14  creat_type_cd_6      1535104 non-null  int64  \n",
      " 15  creat_type_cd_7      1535104 non-null  int64  \n",
      " 16  creat_type_cd_8      1535104 non-null  int64  \n",
      " 17  creat_type_cd_9      1535104 non-null  int64  \n",
      " 18  creat_type_cd_10     1535104 non-null  int64  \n",
      " 19  slot_id_encoded      1535104 non-null  float64\n",
      " 20  task_id_encoded      1535104 non-null  float64\n",
      " 21  adv_prim_id_encoded  1535104 non-null  float64\n",
      " 22  device_size_encoded  1535104 non-null  float64\n",
      " 23  residence_encoded    1535104 non-null  float64\n",
      "dtypes: float64(6), int64(18)\n",
      "memory usage: 281.1 MB\n"
     ]
    }
   ],
   "source": [
    "test_data.info()"
   ]
  },
  {
   "cell_type": "code",
   "execution_count": 93,
   "metadata": {
    "execution": {
     "iopub.execute_input": "2025-10-27T03:58:24.944237Z",
     "iopub.status.busy": "2025-10-27T03:58:24.943571Z",
     "iopub.status.idle": "2025-10-27T03:58:25.510613Z",
     "shell.execute_reply": "2025-10-27T03:58:25.509742Z",
     "shell.execute_reply.started": "2025-10-27T03:58:24.944198Z"
    },
    "trusted": true
   },
   "outputs": [
    {
     "name": "stdout",
     "output_type": "stream",
     "text": [
      "         count  percent\n",
      "label                  \n",
      "0      6045104    98.45\n",
      "1        95309     1.55\n"
     ]
    },
    {
     "data": {
      "image/png": "[encoded data removed]",
      "text/plain": [
       "<Figure size 640x480 with 1 Axes>"
      ]
     },
     "metadata": {},
     "output_type": "display_data"
    }
   ],
   "source": [
    "# distribution of response\n",
    "label_counts = train_data['label'].value_counts().to_frame('count')\n",
    "label_counts['percent'] = (label_counts['count'] / len(train_data) * 100).round(2)\n",
    "print(label_counts)\n",
    "\n",
    "sns.countplot(x='label', data=train_data)\n",
    "plt.title(\"Label Distribution (Click vs No Click)\")\n",
    "plt.xlabel(\"Label (0 = No Click, 1 = Click)\")\n",
    "plt.ylabel(\"Count\")\n",
    "plt.show()"
   ]
  },
  {
   "cell_type": "markdown",
   "metadata": {},
   "source": [
    "### Variables Summary\n",
    "\n",
    "The following table summarizes all variables used in the CTR prediction model, their meanings, and data sources:\n",
    "\n",
    "| Variable | Description | Data Source |\n",
    "|-----------|--------------|--------------|\n",
    "| *label* | Response variable: whether the user clicked the ad (1 = click, 0 = no click) | Target domain |\n",
    "| *user_id* | Unique user identifier | Target domain |\n",
    "| *log_id* | Unique sample identifier | Target domain |\n",
    "| *age* | User age group | Target domain |\n",
    "| *gender* | User gender | Target domain |\n",
    "| *residence* | User residence province ID | Target domain |\n",
    "| *device_name* | Device model name | Target domain |\n",
    "| *device_size* | Screen size category | Target domain |\n",
    "| *net_type* | Network type (e.g., WiFi, 4G, 5G) | Target domain |\n",
    "| *task_id* | Ad campaign ID | Target domain |\n",
    "| *adv_id* | Ad material ID | Target domain |\n",
    "| *creat_type_cd* | Creative type ID | Target domain |\n",
    "| *feeds_imps* | Total number of content impressions per user | Source domain (aggregated) |\n",
    "| *feeds_clicks* | Total number of content clicks per user | Source domain (aggregated) |\n",
    "| *feeds_ctr* | Average content CTR per user | Source domain (aggregated) |\n",
    "\n",
    "**Model goal:**\n",
    "Predict 'label' on user, ad, device, and source-domain behavior features.\n",
    "\n",
    "**Input features (X):**  \n",
    "All columns except *label*, *user_id*, and *log_id*.  \n",
    "\n",
    "**Response variable (Y):**  \n",
    "*label* (0/1)\n"
   ]
  },
  {
   "cell_type": "markdown",
   "metadata": {},
   "source": [
    "### Addressing class imbalance for logistic regression"
   ]
  },
  {
   "cell_type": "code",
   "execution_count": 94,
   "metadata": {
    "execution": {
     "iopub.execute_input": "2025-10-27T03:58:35.123372Z",
     "iopub.status.busy": "2025-10-27T03:58:35.122725Z",
     "iopub.status.idle": "2025-10-27T03:58:36.072052Z",
     "shell.execute_reply": "2025-10-27T03:58:36.071304Z",
     "shell.execute_reply.started": "2025-10-27T03:58:35.123341Z"
    },
    "trusted": true
   },
   "outputs": [
    {
     "name": "stdout",
     "output_type": "stream",
     "text": [
      "Original training size: 6140413\n",
      "Balanced training size: 590000\n",
      "Class distribution after resampling:\n",
      " label\n",
      "0    500000\n",
      "1     90000\n",
      "Name: count, dtype: int64\n"
     ]
    }
   ],
   "source": [
    "from sklearn.utils import resample\n",
    "\n",
    "# resample to address class imbalance\n",
    "train_majority = train_data[train_data.label == 0]\n",
    "train_minority = train_data[train_data.label == 1]\n",
    "\n",
    "train_downsampled = pd.concat([\n",
    "    train_majority.sample(500000, random_state=123),\n",
    "    train_minority.sample(90000, random_state=123)\n",
    "])\n",
    "\n",
    "print(\"Original training size:\", len(train_data))\n",
    "print(\"Balanced training size:\", len(train_downsampled))\n",
    "print(\"Class distribution after resampling:\\n\", train_downsampled['label'].value_counts())"
   ]
  },
  {
   "cell_type": "code",
   "execution_count": 95,
   "metadata": {
    "execution": {
     "iopub.execute_input": "2025-10-27T03:58:43.968829Z",
     "iopub.status.busy": "2025-10-27T03:58:43.968534Z",
     "iopub.status.idle": "2025-10-27T03:58:44.023448Z",
     "shell.execute_reply": "2025-10-27T03:58:44.022644Z",
     "shell.execute_reply.started": "2025-10-27T03:58:43.968804Z"
    },
    "trusted": true
   },
   "outputs": [],
   "source": [
    "X_train = train_downsampled.drop(columns=['user_id', 'log_id', 'label'])\n",
    "y_train = train_downsampled['label']\n",
    "X_test = test_data.drop(columns=['user_id', 'log_id', 'label'])\n",
    "y_test = test_data['label']"
   ]
  },
  {
   "cell_type": "markdown",
   "metadata": {},
   "source": [
    "### Feature Scaling\n",
    "\n",
    "Before training logistic regression, we standardize features using `StandardScaler`:\n",
    "- **Fits** scaling parameters (mean and standard deviation) on training data only\n",
    "- **Transforms** both training and test sets using the same parameters\n",
    "- Prevents data leakage from test set statistics\n",
    "- Improves model convergence and interpretability\n"
   ]
  },
  {
   "cell_type": "code",
   "execution_count": 96,
   "metadata": {},
   "outputs": [
    {
     "name": "stdout",
     "output_type": "stream",
     "text": [
      "Features scaled successfully\n",
      "Scaled training shape: (590000, 21)\n",
      "Scaled test shape: (1535104, 21)\n"
     ]
    }
   ],
   "source": [
    "# Scale features for logistic regression\n",
    "# StandardScaler centers and scales features to have mean=0 and std=1\n",
    "# Critical: fit on training data only, then transform both train and test\n",
    "# This prevents data leakage from test set statistics\n",
    "\n",
    "scaler = StandardScaler()\n",
    "X_train_scaled = scaler.fit_transform(X_train)\n",
    "X_test_scaled = scaler.transform(X_test)\n",
    "\n",
    "# Convert back to DataFrames to preserve column names\n",
    "X_train_scaled = pd.DataFrame(X_train_scaled, columns=X_train.columns, index=X_train.index)\n",
    "X_test_scaled = pd.DataFrame(X_test_scaled, columns=X_test.columns, index=X_test.index)\n",
    "\n",
    "print(\"Features scaled successfully\")\n",
    "print(f\"Scaled training shape: {X_train_scaled.shape}\")\n",
    "print(f\"Scaled test shape: {X_test_scaled.shape}\")\n",
    "\n"
   ]
  },
  {
   "cell_type": "markdown",
   "metadata": {},
   "source": [
    "**2 logistic regression models:**\n",
    "\n",
    "1. naive classifier      2. address class imbalance"
   ]
  },
  {
   "cell_type": "code",
   "execution_count": 97,
   "metadata": {
    "execution": {
     "iopub.execute_input": "2025-10-27T03:58:47.791035Z",
     "iopub.status.busy": "2025-10-27T03:58:47.790284Z",
     "iopub.status.idle": "2025-10-27T03:58:58.557070Z",
     "shell.execute_reply": "2025-10-27T03:58:58.556238Z",
     "shell.execute_reply.started": "2025-10-27T03:58:47.791009Z"
    },
    "trusted": true
   },
   "outputs": [
    {
     "data": {
      "text/html": [
       "<div>\n",
       "<style scoped>\n",
       "    .dataframe tbody tr th:only-of-type {\n",
       "        vertical-align: middle;\n",
       "    }\n",
       "\n",
       "    .dataframe tbody tr th {\n",
       "        vertical-align: top;\n",
       "    }\n",
       "\n",
       "    .dataframe thead th {\n",
       "        text-align: right;\n",
       "    }\n",
       "</style>\n",
       "<table border=\"1\" class=\"dataframe\">\n",
       "  <thead>\n",
       "    <tr style=\"text-align: right;\">\n",
       "      <th></th>\n",
       "      <th>Model</th>\n",
       "      <th>Accuracy</th>\n",
       "      <th>Precision</th>\n",
       "      <th>Recall</th>\n",
       "      <th>AUC</th>\n",
       "      <th>F1</th>\n",
       "    </tr>\n",
       "  </thead>\n",
       "  <tbody>\n",
       "    <tr>\n",
       "      <th>0</th>\n",
       "      <td>LR</td>\n",
       "      <td>0.9765</td>\n",
       "      <td>0.1216</td>\n",
       "      <td>0.0822</td>\n",
       "      <td>0.749</td>\n",
       "      <td>0.0981</td>\n",
       "    </tr>\n",
       "  </tbody>\n",
       "</table>\n",
       "</div>"
      ],
      "text/plain": [
       "  Model  Accuracy  Precision  Recall    AUC      F1\n",
       "0    LR    0.9765     0.1216  0.0822  0.749  0.0981"
      ]
     },
     "metadata": {},
     "output_type": "display_data"
    }
   ],
   "source": [
    "lr = LogisticRegression()\n",
    "\n",
    "lr.fit(X_train_scaled, y_train)\n",
    "\n",
    "y_pred = lr.predict(X_test_scaled)\n",
    "\n",
    "y_proba = lr.predict_proba(X_test_scaled)[:, 1]\n",
    "\n",
    "results = pd.DataFrame({\n",
    "    'Model': ['LR'],\n",
    "    'Accuracy': [\n",
    "        accuracy_score(y_test, y_pred)\n",
    "    ],\n",
    "    'Precision': [\n",
    "        precision_score(y_test, y_pred, zero_division=0)\n",
    "    ],\n",
    "    'Recall': [\n",
    "        recall_score(y_test, y_pred)\n",
    "    ],\n",
    "    'AUC': [\n",
    "        roc_auc_score(y_test, y_proba)\n",
    "    ],\n",
    "    'F1': [\n",
    "        f1_score(y_test, y_pred)\n",
    "    ]\n",
    "})\n",
    "\n",
    "display(results.round(4))\n"
   ]
  },
  {
   "cell_type": "code",
   "execution_count": 98,
   "metadata": {
    "execution": {
     "iopub.execute_input": "2025-10-27T03:59:13.645929Z",
     "iopub.status.busy": "2025-10-27T03:59:13.645606Z",
     "iopub.status.idle": "2025-10-27T03:59:14.872064Z",
     "shell.execute_reply": "2025-10-27T03:59:14.871214Z",
     "shell.execute_reply.started": "2025-10-27T03:59:13.645905Z"
    },
    "trusted": true
   },
   "outputs": [
    {
     "name": "stderr",
     "output_type": "stream",
     "text": [
      "/Users/samkelly/.pyenv/versions/3.12.6/lib/python3.12/site-packages/sklearn/utils/_plotting.py:175: FutureWarning: `**kwargs` is deprecated and will be removed in 1.9. Pass all matplotlib arguments to `curve_kwargs` as a dictionary instead.\n",
      "  warnings.warn(\n"
     ]
    },
    {
     "data": {
      "image/png": "[encoded data removed]",
      "text/plain": [
       "<Figure size 700x600 with 1 Axes>"
      ]
     },
     "metadata": {},
     "output_type": "display_data"
    }
   ],
   "source": [
    "#  ROC\n",
    "from sklearn.metrics import RocCurveDisplay\n",
    "import matplotlib.pyplot as plt\n",
    "\n",
    "fig, ax = plt.subplots(figsize=(7,6))        \n",
    "RocCurveDisplay.from_estimator(\n",
    "    lr, X_test_scaled, y_test, name=\"Logistic Regression\", color=\"gray\", ax=ax\n",
    ")\n",
    "ax.plot([0, 1], [0, 1], 'k--', label='Chance Level')\n",
    "ax.set_title('ROC Curve Comparison')\n",
    "ax.set_xlabel('False Positive Rate')\n",
    "ax.set_ylabel('True Positive Rate')\n",
    "ax.legend()\n",
    "plt.show()\n"
   ]
  },
  {
   "cell_type": "code",
   "execution_count": 99,
   "metadata": {
    "execution": {
     "iopub.execute_input": "2025-10-27T03:59:17.384208Z",
     "iopub.status.busy": "2025-10-27T03:59:17.383912Z",
     "iopub.status.idle": "2025-10-27T03:59:19.812397Z",
     "shell.execute_reply": "2025-10-27T03:59:19.811581Z",
     "shell.execute_reply.started": "2025-10-27T03:59:17.384186Z"
    },
    "trusted": true
   },
   "outputs": [
    {
     "data": {
      "image/png": "[encoded data removed]",
      "text/plain": [
       "<Figure size 700x600 with 1 Axes>"
      ]
     },
     "metadata": {},
     "output_type": "display_data"
    }
   ],
   "source": [
    "# Precision\u2013Recall\n",
    "from sklearn.metrics import PrecisionRecallDisplay\n",
    "pos_rate = y_test.mean()\n",
    "\n",
    "fig, ax = plt.subplots(figsize=(7,6))  \n",
    "PrecisionRecallDisplay.from_estimator(\n",
    "    lr, X_test_scaled, y_test, name=\"Logistic Regression\", color=\"gray\", ax=ax\n",
    ")\n",
    "ax.hlines(pos_rate, 0, 1, colors='k', linestyles='--', label=f'No-skill (pos rate={pos_rate:.3f})')\n",
    "ax.set_title('Precision\u2013Recall Curve Comparison')\n",
    "ax.set_xlabel('Recall')\n",
    "ax.set_ylabel('Precision')\n",
    "ax.legend()\n",
    "plt.show()\n"
   ]
  },
  {
   "cell_type": "code",
   "execution_count": 100,
   "metadata": {
    "execution": {
     "iopub.execute_input": "2025-10-27T03:59:24.272342Z",
     "iopub.status.busy": "2025-10-27T03:59:24.271994Z",
     "iopub.status.idle": "2025-10-27T03:59:24.288078Z",
     "shell.execute_reply": "2025-10-27T03:59:24.287281Z",
     "shell.execute_reply.started": "2025-10-27T03:59:24.272317Z"
    },
    "trusted": true
   },
   "outputs": [
    {
     "data": {
      "text/plain": [
       "label\n",
       "0    0.984479\n",
       "1    0.015521\n",
       "Name: proportion, dtype: float64"
      ]
     },
     "execution_count": 100,
     "metadata": {},
     "output_type": "execute_result"
    }
   ],
   "source": [
    "y_test.value_counts(normalize=True)"
   ]
  },
  {
   "cell_type": "markdown",
   "metadata": {},
   "source": [
    "We choose the logistic regression as the baseline model for CTR prediction."
   ]
  },
  {
   "cell_type": "markdown",
   "metadata": {},
   "source": [
    "### Logistic Regression with Class Weights\n",
    "\n",
    "**Approach**: Use class weighting instead of downsampling to leverage all 6M training examples.\n",
    "\n",
    "**Why**: The 98.45% class imbalance can be handled by making the model penalize positive class errors more heavily (using the inverse frequency ratio) without discarding training data.\n"
   ]
  },
  {
   "cell_type": "code",
   "execution_count": 109,
   "metadata": {},
   "outputs": [
    {
     "name": "stdout",
     "output_type": "stream",
     "text": [
      "Full training data shape: (6140413, 21)\n",
      "Class distribution:\n",
      "label\n",
      "0    6045104\n",
      "1      95309\n",
      "Name: count, dtype: int64\n"
     ]
    }
   ],
   "source": [
    "# Prepare full training data (no downsampling) for class-weighted model\n",
    "X_train_full = train_data.drop(columns=['user_id', 'log_id', 'label'])\n",
    "y_train_full = train_data['label']\n",
    "\n",
    "print(f\"Full training data shape: {X_train_full.shape}\")\n",
    "print(f\"Class distribution:\")\n",
    "print(y_train_full.value_counts())\n"
   ]
  },
  {
   "cell_type": "code",
   "execution_count": 113,
   "metadata": {},
   "outputs": [
    {
     "name": "stdout",
     "output_type": "stream",
     "text": [
      "Full data scaled successfully\n",
      "Scaled full training shape: (6140413, 21)\n",
      "Scaled test shape: (1535104, 21)\n"
     ]
    }
   ],
   "source": [
    "# Scale the full training data with a NEW scaler fit on the full data\n",
    "# This is important: we need different scaling parameters for the full dataset\n",
    "# because it has different mean/std than the downsampled data\n",
    "scaler_full = StandardScaler()\n",
    "X_train_full_scaled = scaler_full.fit_transform(X_train_full)\n",
    "X_test_full_scaled = scaler_full.transform(X_test)\n",
    "\n",
    "# Convert back to DataFrames to preserve column names (prevents sklearn warnings)\n",
    "X_train_full_scaled = pd.DataFrame(X_train_full_scaled, columns=X_train_full.columns, index=X_train_full.index)\n",
    "X_test_full_scaled = pd.DataFrame(X_test_full_scaled, columns=X_test.columns, index=X_test.index)\n",
    "\n",
    "print(\"Full data scaled successfully\")\n",
    "print(f\"Scaled full training shape: {X_train_full_scaled.shape}\")\n",
    "print(f\"Scaled test shape: {X_test_full_scaled.shape}\")\n"
   ]
  },
  {
   "cell_type": "code",
   "execution_count": 114,
   "metadata": {},
   "outputs": [
    {
     "name": "stdout",
     "output_type": "stream",
     "text": [
      "Class-weighted Logistic Regression trained successfully\n",
      "Number of features: 21\n"
     ]
    }
   ],
   "source": [
    "# Train Logistic Regression with class weights\n",
    "lr_weighted = LogisticRegression(class_weight='balanced', random_state=2025, max_iter=1000)\n",
    "\n",
    "lr_weighted.fit(X_train_full_scaled, y_train_full)\n",
    "\n",
    "print(\"Class-weighted Logistic Regression trained successfully\")\n",
    "print(f\"Number of features: {len(lr_weighted.coef_[0])}\")\n"
   ]
  },
  {
   "cell_type": "code",
   "execution_count": 115,
   "metadata": {},
   "outputs": [
    {
     "data": {
      "text/html": [
       "<div>\n",
       "<style scoped>\n",
       "    .dataframe tbody tr th:only-of-type {\n",
       "        vertical-align: middle;\n",
       "    }\n",
       "\n",
       "    .dataframe tbody tr th {\n",
       "        vertical-align: top;\n",
       "    }\n",
       "\n",
       "    .dataframe thead th {\n",
       "        text-align: right;\n",
       "    }\n",
       "</style>\n",
       "<table border=\"1\" class=\"dataframe\">\n",
       "  <thead>\n",
       "    <tr style=\"text-align: right;\">\n",
       "      <th></th>\n",
       "      <th>Model</th>\n",
       "      <th>Accuracy</th>\n",
       "      <th>Precision</th>\n",
       "      <th>Recall</th>\n",
       "      <th>AUC</th>\n",
       "      <th>F1</th>\n",
       "    </tr>\n",
       "  </thead>\n",
       "  <tbody>\n",
       "    <tr>\n",
       "      <th>0</th>\n",
       "      <td>LR (Class Weighted)</td>\n",
       "      <td>0.6419</td>\n",
       "      <td>0.0306</td>\n",
       "      <td>0.7194</td>\n",
       "      <td>0.7499</td>\n",
       "      <td>0.0587</td>\n",
       "    </tr>\n",
       "  </tbody>\n",
       "</table>\n",
       "</div>"
      ],
      "text/plain": [
       "                 Model  Accuracy  Precision  Recall     AUC      F1\n",
       "0  LR (Class Weighted)    0.6419     0.0306  0.7194  0.7499  0.0587"
      ]
     },
     "metadata": {},
     "output_type": "display_data"
    }
   ],
   "source": [
    "# Predict and evaluate\n",
    "y_pred_weighted = lr_weighted.predict(X_test_full_scaled)\n",
    "y_proba_weighted = lr_weighted.predict_proba(X_test_full_scaled)[:, 1]\n",
    "\n",
    "# Calculate metrics for class-weighted model\n",
    "results_weighted = pd.DataFrame({\n",
    "    'Model': ['LR (Class Weighted)'],\n",
    "    'Accuracy': [accuracy_score(y_test, y_pred_weighted)],\n",
    "    'Precision': [precision_score(y_test, y_pred_weighted, zero_division=0)],\n",
    "    'Recall': [recall_score(y_test, y_pred_weighted)],\n",
    "    'AUC': [roc_auc_score(y_test, y_proba_weighted)],\n",
    "    'F1': [f1_score(y_test, y_pred_weighted)]\n",
    "})\n",
    "\n",
    "display(results_weighted.round(4))\n"
   ]
  },
  {
   "cell_type": "code",
   "execution_count": 116,
   "metadata": {},
   "outputs": [
    {
     "name": "stderr",
     "output_type": "stream",
     "text": [
      "/Users/samkelly/.pyenv/versions/3.12.6/lib/python3.12/site-packages/sklearn/utils/validation.py:2749: UserWarning: X does not have valid feature names, but LogisticRegression was fitted with feature names\n",
      "  warnings.warn(\n",
      "/Users/samkelly/.pyenv/versions/3.12.6/lib/python3.12/site-packages/sklearn/utils/_plotting.py:175: FutureWarning: `**kwargs` is deprecated and will be removed in 1.9. Pass all matplotlib arguments to `curve_kwargs` as a dictionary instead.\n",
      "  warnings.warn(\n",
      "/Users/samkelly/.pyenv/versions/3.12.6/lib/python3.12/site-packages/sklearn/utils/_plotting.py:175: FutureWarning: `**kwargs` is deprecated and will be removed in 1.9. Pass all matplotlib arguments to `curve_kwargs` as a dictionary instead.\n",
      "  warnings.warn(\n"
     ]
    },
    {
     "data": {
      "image/png": "[encoded data removed]",
      "text/plain": [
       "<Figure size 800x600 with 1 Axes>"
      ]
     },
     "metadata": {},
     "output_type": "display_data"
    }
   ],
   "source": [
    "# ROC Curve Comparison\n",
    "fig, ax = plt.subplots(figsize=(8,6))\n",
    "RocCurveDisplay.from_estimator(\n",
    "    lr, X_test_scaled, y_test, name=\"LR (Downsampled)\", color=\"gray\", ax=ax\n",
    ")\n",
    "RocCurveDisplay.from_estimator(\n",
    "    lr_weighted, X_test_full_scaled, y_test, name=\"LR (Class Weighted)\", color=\"blue\", ax=ax\n",
    ")\n",
    "ax.plot([0, 1], [0, 1], 'k--', label='Chance Level')\n",
    "ax.set_title('ROC Curve Comparison')\n",
    "ax.set_xlabel('False Positive Rate')\n",
    "ax.set_ylabel('True Positive Rate')\n",
    "ax.legend()\n",
    "plt.show()\n"
   ]
  },
  {
   "cell_type": "code",
   "execution_count": 117,
   "metadata": {},
   "outputs": [
    {
     "name": "stderr",
     "output_type": "stream",
     "text": [
      "/Users/samkelly/.pyenv/versions/3.12.6/lib/python3.12/site-packages/sklearn/utils/validation.py:2749: UserWarning: X does not have valid feature names, but LogisticRegression was fitted with feature names\n",
      "  warnings.warn(\n"
     ]
    },
    {
     "data": {
      "image/png": "[encoded data removed]",
      "text/plain": [
       "<Figure size 800x600 with 1 Axes>"
      ]
     },
     "metadata": {},
     "output_type": "display_data"
    }
   ],
   "source": [
    "# Precision-Recall Comparison\n",
    "pos_rate = y_test.mean()\n",
    "fig, ax = plt.subplots(figsize=(8,6))\n",
    "PrecisionRecallDisplay.from_estimator(\n",
    "    lr, X_test_scaled, y_test, name=\"LR (Downsampled)\", color=\"gray\", ax=ax\n",
    ")\n",
    "PrecisionRecallDisplay.from_estimator(\n",
    "    lr_weighted, X_test_full_scaled, y_test, name=\"LR (Class Weighted)\", color=\"blue\", ax=ax\n",
    ")\n",
    "ax.hlines(pos_rate, 0, 1, colors='k', linestyles='--', label=f'No-skill (pos rate={pos_rate:.3f})')\n",
    "ax.set_title('Precision\u2013Recall Curve Comparison')\n",
    "ax.set_xlabel('Recall')\n",
    "ax.set_ylabel('Precision')\n",
    "ax.legend()\n",
    "plt.show()\n"
   ]
  },
  {
   "cell_type": "markdown",
   "metadata": {},
   "source": [
    "### Hyperparameter Tuning: Regularization (C Parameter)\n",
    "\n",
    "**Goal**: Find optimal regularization strength to prevent overfitting\n",
    "\n",
    "**Method**: Grid search over C values with cross-validation\n"
   ]
  },
  {
   "cell_type": "markdown",
   "metadata": {},
   "source": [
    "### Optimized Grid Search for Performance\n\n",
    "**Why we reduced search space:**\n",
    "- Reduced CV folds: 5 \u2192 3 (faster cross-validation)\n",
    "- Reduced C values: Focus on most promising range\n",
    "- For class-weighted model: Subsample to 1M examples during grid search to prevent crashes\n",
    "- Final model still trained on full 6M examples after best C is found\n\n",
    "This makes the search ~60% faster while still finding optimal regularization."
   ]
  },
  {
   "cell_type": "code",
   "execution_count": null,
   "metadata": {},
   "outputs": [],
   "source": [
    "from sklearn.model_selection import GridSearchCV\n\n# Tune C for downsampled model\nprint(\"Tuning regularization for downsampled model...\")\nparam_grid_l2 = {\n    'C': [0.1, 1.0, 10.0],\n    'penalty': ['l2']\n}\n\ngrid_search_lr = GridSearchCV(\n    LogisticRegression(random_state=2025, max_iter=1000),\n    param_grid_l2,\n    cv=3,\n    scoring='roc_auc',\n    n_jobs=-1,\n    verbose=1\n)\n\ngrid_search_lr.fit(X_train_scaled, y_train)\n\nprint(f\"\\nBest C: {grid_search_lr.best_params_['C']}\")\nprint(f\"Best CV AUC: {grid_search_lr.best_score_:.4f}\")\n\n# Train best model\nlr_tuned = grid_search_lr.best_estimator_\nlr_tuned.fit(X_train_scaled, y_train)\n\n# Evaluate\ny_pred_tuned = lr_tuned.predict(X_test_scaled)\ny_proba_tuned = lr_tuned.predict_proba(X_test_scaled)[:, 1]\n\nresults_lr_tuned = pd.DataFrame({\n    'Model': ['LR (Tuned)'],\n    'Accuracy': [accuracy_score(y_test, y_pred_tuned)],\n    'Precision': [precision_score(y_test, y_pred_tuned, zero_division=0)],\n    'Recall': [recall_score(y_test, y_pred_tuned)],\n    'AUC': [roc_auc_score(y_test, y_proba_tuned)],\n    'F1': [f1_score(y_test, y_pred_tuned)]\n})\n\ndisplay(results_lr_tuned.round(4))\n"
   ]
  },
  {
   "cell_type": "code",
   "execution_count": null,
   "metadata": {},
   "outputs": [],
   "source": [
    "import numpy as np\n\n# Tune C for class-weighted model\nprint(\"Tuning regularization for class-weighted model...\")\nparam_grid_weighted = {\n    'C': [0.1, 1.0],\n    'penalty': ['l2']\n}\n\ngrid_search_weighted = GridSearchCV(\n    LogisticRegression(class_weight='balanced', random_state=2025, max_iter=1000),\n    param_grid_weighted,\n    cv=3,\n    scoring='roc_auc',\n    n_jobs=-1,\n    verbose=1\n)\n\n# Subsample for faster grid search (1M instead of 6M)\nsample_idx = np.random.choice(len(X_train_full_scaled), 1000000, replace=False)\nX_train_subsample = X_train_full_scaled.loc[X_train_full_scaled.index[sample_idx]]\ny_train_subsample = y_train_full.loc[y_train_full.index[sample_idx]]\ngrid_search_weighted.fit(X_train_subsample, y_train_subsample)\n\nprint(f\"\\nBest C: {grid_search_weighted.best_params_['C']}\")\nprint(f\"Best CV AUC: {grid_search_weighted.best_score_:.4f}\")\n\n# Train best model\nlr_weighted_tuned = grid_search_weighted.best_estimator_\nlr_weighted_tuned.fit(X_train_full_scaled, y_train_full)\n\n# Evaluate\ny_pred_weighted_tuned_reg = lr_weighted_tuned.predict(X_test_full_scaled)\ny_proba_weighted_tuned_reg = lr_weighted_tuned.predict_proba(X_test_full_scaled)[:, 1]\n\nresults_weighted_tuned_reg = pd.DataFrame({\n    'Model': ['LR (Class Weighted, Tuned C)'],\n    'Accuracy': [accuracy_score(y_test, y_pred_weighted_tuned_reg)],\n    'Precision': [precision_score(y_test, y_pred_weighted_tuned_reg, zero_division=0)],\n    'Recall': [recall_score(y_test, y_pred_weighted_tuned_reg)],\n    'AUC': [roc_auc_score(y_test, y_proba_weighted_tuned_reg)],\n    'F1': [f1_score(y_test, y_pred_weighted_tuned_reg)]\n})\n\ndisplay(results_weighted_tuned_reg.round(4))\n"
   ]
  },
  {
   "cell_type": "code",
   "execution_count": 118,
   "metadata": {},
   "outputs": [
    {
     "name": "stdout",
     "output_type": "stream",
     "text": [
      "================================================================================\n",
      "MODEL COMPARISON: Downsampled vs Class-Weighted\n",
      "================================================================================\n"
     ]
    },
    {
     "data": {
      "text/html": [
       "<div>\n",
       "<style scoped>\n",
       "    .dataframe tbody tr th:only-of-type {\n",
       "        vertical-align: middle;\n",
       "    }\n",
       "\n",
       "    .dataframe tbody tr th {\n",
       "        vertical-align: top;\n",
       "    }\n",
       "\n",
       "    .dataframe thead th {\n",
       "        text-align: right;\n",
       "    }\n",
       "</style>\n",
       "<table border=\"1\" class=\"dataframe\">\n",
       "  <thead>\n",
       "    <tr style=\"text-align: right;\">\n",
       "      <th></th>\n",
       "      <th>Model</th>\n",
       "      <th>Accuracy</th>\n",
       "      <th>Precision</th>\n",
       "      <th>Recall</th>\n",
       "      <th>AUC</th>\n",
       "      <th>F1</th>\n",
       "    </tr>\n",
       "  </thead>\n",
       "  <tbody>\n",
       "    <tr>\n",
       "      <th>0</th>\n",
       "      <td>LR</td>\n",
       "      <td>0.9765</td>\n",
       "      <td>0.1216</td>\n",
       "      <td>0.0822</td>\n",
       "      <td>0.7490</td>\n",
       "      <td>0.0981</td>\n",
       "    </tr>\n",
       "    <tr>\n",
       "      <th>1</th>\n",
       "      <td>LR (Class Weighted)</td>\n",
       "      <td>0.6419</td>\n",
       "      <td>0.0306</td>\n",
       "      <td>0.7194</td>\n",
       "      <td>0.7499</td>\n",
       "      <td>0.0587</td>\n",
       "    </tr>\n",
       "  </tbody>\n",
       "</table>\n",
       "</div>"
      ],
      "text/plain": [
       "                 Model  Accuracy  Precision  Recall     AUC      F1\n",
       "0                   LR    0.9765     0.1216  0.0822  0.7490  0.0981\n",
       "1  LR (Class Weighted)    0.6419     0.0306  0.7194  0.7499  0.0587"
      ]
     },
     "metadata": {},
     "output_type": "display_data"
    }
   ],
   "source": [
    "# Combined results comparison\n",
    "results_comparison = pd.concat([\n",
    "    results,  # From resampled approach (Cell 28)\n",
    "    results_weighted\n",
    "], ignore_index=True)\n",
    "\n",
    "print(\"=\" * 80)\n",
    "print(\"MODEL COMPARISON: Downsampled vs Class-Weighted\")\n",
    "print(\"=\" * 80)\n",
    "display(results_comparison.round(4))\n"
   ]
  },
  {
   "cell_type": "markdown",
   "metadata": {},
   "source": [
    "### Results Summary\n",
    "\n",
    "**Key Differences:**\n",
    "- **Downsampled approach**: Uses 590K samples (10% of data), balances classes to 84.7% / 15.3%\n",
    "- **Class-weighted approach**: Uses all 6.14M samples, applies 63x weight to positive class errors\n",
    "\n",
    "**Expected Tradeoffs:**\n",
    "- Class-weighted model should have **higher recall** (finds more clicks) due to larger training set\n",
    "- Class-weighted model may have **lower precision** (more false positives) because it's more aggressive\n",
    "- Both approaches should outperform the baseline \"all-no\" classifier on AUC metric\n"
   ]
  },
  {
   "cell_type": "markdown",
   "metadata": {},
   "source": [
    "### Tuning Decision Threshold\n",
    "\n",
    "**Problem**: With 98.45% class imbalance, threshold=0.5 is suboptimal. \n",
    "\n",
    "**Solution**: Find the threshold that maximizes F1 score (balance of precision and recall)\n"
   ]
  },
  {
   "cell_type": "code",
   "execution_count": 125,
   "metadata": {},
   "outputs": [
    {
     "name": "stdout",
     "output_type": "stream",
     "text": [
      "Best threshold: 0.490\n",
      "Best F1 score: 0.0571\n",
      "\n",
      "At best threshold:\n",
      "  Accuracy: 0.6202\n",
      "  Precision: 0.0297\n",
      "  Recall: 0.7406\n"
     ]
    }
   ],
   "source": [
    "from sklearn.metrics import f1_score\n",
    "\n",
    "# Get probability predictions\n",
    "y_proba_weighted = lr_weighted.predict_proba(X_test_full_scaled)[:, 1]\n",
    "\n",
    "# Try different thresholds and find best F1\n",
    "thresholds = np.arange(0.01, 0.5, 0.01)\n",
    "f1_scores = []\n",
    "precisions = []\n",
    "recalls = []\n",
    "accuracies = []\n",
    "\n",
    "for thresh in thresholds:\n",
    "    y_pred_thresh = (y_proba_weighted >= thresh).astype(int)\n",
    "    f1_scores.append(f1_score(y_test, y_pred_thresh))\n",
    "    precisions.append(precision_score(y_test, y_pred_thresh, zero_division=0))\n",
    "    recalls.append(recall_score(y_test, y_pred_thresh))\n",
    "    accuracies.append(accuracy_score(y_test, y_pred_thresh))\n",
    "\n",
    "# Find best threshold\n",
    "best_idx = np.argmax(f1_scores)\n",
    "best_threshold = thresholds[best_idx]\n",
    "print(f\"Best threshold: {best_threshold:.3f}\")\n",
    "print(f\"Best F1 score: {f1_scores[best_idx]:.4f}\")\n",
    "print(f\"\\nAt best threshold:\")\n",
    "print(f\"  Accuracy: {accuracies[best_idx]:.4f}\")\n",
    "print(f\"  Precision: {precisions[best_idx]:.4f}\")\n",
    "print(f\"  Recall: {recalls[best_idx]:.4f}\")\n"
   ]
  },
  {
   "cell_type": "code",
   "execution_count": 123,
   "metadata": {},
   "outputs": [
    {
     "data": {
      "image/png": "[encoded data removed]",
      "text/plain": [
       "<Figure size 1000x600 with 1 Axes>"
      ]
     },
     "metadata": {},
     "output_type": "display_data"
    }
   ],
   "source": [
    "# Plot threshold vs F1\n",
    "plt.figure(figsize=(10,6))\n",
    "plt.plot(thresholds, f1_scores, label='F1', linewidth=2)\n",
    "plt.plot(thresholds, precisions, label='Precision', linewidth=2)\n",
    "plt.plot(thresholds, recalls, label='Recall', linewidth=2)\n",
    "plt.plot(thresholds, accuracies, label='Accuracy', linewidth=2, alpha=0.5)\n",
    "plt.axvline(best_threshold, color='red', linestyle='--', label=f'Best threshold: {best_threshold:.3f}')\n",
    "plt.xlabel('Threshold')\n",
    "plt.ylabel('Score')\n",
    "plt.title('Metric vs Threshold (Class-Weighted Model)')\n",
    "plt.legend()\n",
    "plt.grid(True, alpha=0.3)\n",
    "plt.show()\n"
   ]
  },
  {
   "cell_type": "code",
   "execution_count": 124,
   "metadata": {},
   "outputs": [
    {
     "data": {
      "text/html": [
       "<div>\n",
       "<style scoped>\n",
       "    .dataframe tbody tr th:only-of-type {\n",
       "        vertical-align: middle;\n",
       "    }\n",
       "\n",
       "    .dataframe tbody tr th {\n",
       "        vertical-align: top;\n",
       "    }\n",
       "\n",
       "    .dataframe thead th {\n",
       "        text-align: right;\n",
       "    }\n",
       "</style>\n",
       "<table border=\"1\" class=\"dataframe\">\n",
       "  <thead>\n",
       "    <tr style=\"text-align: right;\">\n",
       "      <th></th>\n",
       "      <th>Model</th>\n",
       "      <th>Accuracy</th>\n",
       "      <th>Precision</th>\n",
       "      <th>Recall</th>\n",
       "      <th>AUC</th>\n",
       "      <th>F1</th>\n",
       "    </tr>\n",
       "  </thead>\n",
       "  <tbody>\n",
       "    <tr>\n",
       "      <th>0</th>\n",
       "      <td>LR (Class Weighted, Tuned)</td>\n",
       "      <td>0.6202</td>\n",
       "      <td>0.0297</td>\n",
       "      <td>0.7406</td>\n",
       "      <td>0.7499</td>\n",
       "      <td>0.0571</td>\n",
       "    </tr>\n",
       "  </tbody>\n",
       "</table>\n",
       "</div>"
      ],
      "text/plain": [
       "                        Model  Accuracy  Precision  Recall     AUC      F1\n",
       "0  LR (Class Weighted, Tuned)    0.6202     0.0297  0.7406  0.7499  0.0571"
      ]
     },
     "metadata": {},
     "output_type": "display_data"
    }
   ],
   "source": [
    "# Apply optimal threshold and evaluate\n",
    "y_pred_weighted_tuned = (y_proba_weighted >= best_threshold).astype(int)\n",
    "\n",
    "results_weighted_tuned = pd.DataFrame({\n",
    "    'Model': ['LR (Class Weighted, Tuned)'],\n",
    "    'Accuracy': [accuracy_score(y_test, y_pred_weighted_tuned)],\n",
    "    'Precision': [precision_score(y_test, y_pred_weighted_tuned, zero_division=0)],\n",
    "    'Recall': [recall_score(y_test, y_pred_weighted_tuned)],\n",
    "    'AUC': [roc_auc_score(y_test, y_proba_weighted)],\n",
    "    'F1': [f1_score(y_test, y_pred_weighted_tuned)]\n",
    "})\n",
    "\n",
    "display(results_weighted_tuned.round(4))\n"
   ]
  },
  {
   "cell_type": "code",
   "execution_count": null,
   "metadata": {},
   "outputs": [
    {
     "name": "stdout",
     "output_type": "stream",
     "text": [
      "================================================================================\n",
      "FINAL COMPARISON: All Logistic Regression Approaches\n",
      "================================================================================\n"
     ]
    },
    {
     "data": {
      "text/html": [
       "<div>\n",
       "<style scoped>\n",
       "    .dataframe tbody tr th:only-of-type {\n",
       "        vertical-align: middle;\n",
       "    }\n",
       "\n",
       "    .dataframe tbody tr th {\n",
       "        vertical-align: top;\n",
       "    }\n",
       "\n",
       "    .dataframe thead th {\n",
       "        text-align: right;\n",
       "    }\n",
       "</style>\n",
       "<table border=\"1\" class=\"dataframe\">\n",
       "  <thead>\n",
       "    <tr style=\"text-align: right;\">\n",
       "      <th></th>\n",
       "      <th>Model</th>\n",
       "      <th>Accuracy</th>\n",
       "      <th>Precision</th>\n",
       "      <th>Recall</th>\n",
       "      <th>AUC</th>\n",
       "      <th>F1</th>\n",
       "    </tr>\n",
       "  </thead>\n",
       "  <tbody>\n",
       "    <tr>\n",
       "      <th>0</th>\n",
       "      <td>LR</td>\n",
       "      <td>0.9765</td>\n",
       "      <td>0.1216</td>\n",
       "      <td>0.0822</td>\n",
       "      <td>0.7490</td>\n",
       "      <td>0.0981</td>\n",
       "    </tr>\n",
       "    <tr>\n",
       "      <th>1</th>\n",
       "      <td>LR (Class Weighted)</td>\n",
       "      <td>0.6419</td>\n",
       "      <td>0.0306</td>\n",
       "      <td>0.7194</td>\n",
       "      <td>0.7499</td>\n",
       "      <td>0.0587</td>\n",
       "    </tr>\n",
       "    <tr>\n",
       "      <th>2</th>\n",
       "      <td>LR (Class Weighted, Tuned)</td>\n",
       "      <td>0.6202</td>\n",
       "      <td>0.0297</td>\n",
       "      <td>0.7406</td>\n",
       "      <td>0.7499</td>\n",
       "      <td>0.0571</td>\n",
       "    </tr>\n",
       "  </tbody>\n",
       "</table>\n",
       "</div>"
      ],
      "text/plain": [
       "                        Model  Accuracy  Precision  Recall     AUC      F1\n",
       "0                          LR    0.9765     0.1216  0.0822  0.7490  0.0981\n",
       "1         LR (Class Weighted)    0.6419     0.0306  0.7194  0.7499  0.0587\n",
       "2  LR (Class Weighted, Tuned)    0.6202     0.0297  0.7406  0.7499  0.0571"
      ]
     },
     "metadata": {},
     "output_type": "display_data"
    }
   ],
   "source": [
    "# Final comparison: All approaches\n",
    "results_final = pd.concat([\n",
    "    results,  # Downsampled (default C)\n",
    "    results_lr_tuned,  # Downsampled (tuned C)\n",
    "    results_weighted,  # Class weighted (default C, default threshold)\n",
    "    results_weighted_tuned,  # Class weighted (default C, tuned threshold)\n",
    "    results_weighted_tuned_reg  # Class weighted (tuned C)\n",
    "], ignore_index=True)\n",
    "\n",
    "print(\"=\" * 80)\n",
    "print(\"FINAL COMPARISON: All Logistic Regression Approaches\")\n",
    "print(\"=\" * 80)\n",
    "display(results_final.round(4))\n"
   ]
  },
  {
   "cell_type": "markdown",
   "metadata": {},
   "source": [
    "### Comparison Summary\n",
    "\n",
    "**Models evaluated:**\n",
    "1. **LR (Downsampled)**: Original downsampling approach with default C=1.0\n",
    "2. **LR (Tuned)**: Downsampled approach with optimized C parameter\n",
    "3. **LR (Class Weighted)**: Full data with class weights, default C=1.0, threshold=0.5\n",
    "4. **LR (Class Weighted, Tuned Threshold)**: Class weighted with tuned decision threshold\n",
    "5. **LR (Class Weighted, Tuned C)**: Class weighted with optimized C parameter\n",
    "\n",
    "**Key insights:**\n",
    "- Tuned models show impact of regularization on performance\n",
    "- Class-weighted models prioritize recall over accuracy\n",
    "- Optimal C value prevents overfitting on minority class\n"
   ]
  }
 ],
 "metadata": {
  "kaggle": {
   "accelerator": "none",
   "dataSources": [
    {
     "datasetId": 2370668,
     "sourceId": 3995276,
     "sourceType": "datasetVersion"
    },
    {
     "datasetId": 8559597,
     "sourceId": 13482259,
     "sourceType": "datasetVersion"
    }
   ],
   "dockerImageVersionId": 31153,
   "isGpuEnabled": false,
   "isInternetEnabled": false,
   "language": "python",
   "sourceType": "notebook"
  },
  "kernelspec": {
   "display_name": "Global Python 3.12",
   "language": "python",
   "name": "global-python"
  },
  "language_info": {
   "codemirror_mode": {
    "name": "ipython",
    "version": 3
   },
   "file_extension": ".py",
   "mimetype": "text/x-python",
   "name": "python",
   "nbconvert_exporter": "python",
   "pygments_lexer": "ipython3",
   "version": "3.12.6"
  }
 },
 "nbformat": 4,
 "nbformat_minor": 4
}